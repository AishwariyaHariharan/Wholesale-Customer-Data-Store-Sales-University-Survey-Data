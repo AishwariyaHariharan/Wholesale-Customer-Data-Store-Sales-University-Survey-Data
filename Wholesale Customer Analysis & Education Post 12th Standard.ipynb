{
 "cells": [
  {
   "cell_type": "markdown",
   "id": "e5e5e956",
   "metadata": {},
   "source": [
    "# Problem 1 - Wholesale Customer Analysis"
   ]
  },
  {
   "cell_type": "markdown",
   "id": "d13d9c03",
   "metadata": {},
   "source": [
    "## Business Context"
   ]
  },
  {
   "cell_type": "markdown",
   "id": "a3e5ffc1",
   "metadata": {},
   "source": [
    "A wholesale distributor operating in different regions of Portugal has information on annual spending\n",
    "of several items in their stores across different regions and channels. The data consists of 440 large\n",
    "retailers’ annual spending on 6 different varieties of productsin 3 different regions (Lisbon, Oporto,\n",
    "Other) and across different sales channel (Hotel, Retail)."
   ]
  },
  {
   "cell_type": "markdown",
   "id": "2d6ef520",
   "metadata": {},
   "source": [
    "## Objective"
   ]
  },
  {
   "cell_type": "markdown",
   "id": "acea1434",
   "metadata": {},
   "source": [
    "They want to analyze the data to get a fair idea about the demand of different Buyers which will help\n",
    "them in enhancing their customer experience. Suppose you are a Data Scientist at the company and\n",
    "the Data Science team has shared some of the key questions that need to be answered. Perform\n",
    "the data analysis to find answers to these questions that will help the company to improve the\n",
    "business."
   ]
  },
  {
   "cell_type": "markdown",
   "id": "eed3306a",
   "metadata": {},
   "source": [
    "## Data Overview "
   ]
  },
  {
   "cell_type": "markdown",
   "id": "a3f679f2",
   "metadata": {},
   "source": [
    "- Import libraries\n",
    "- Load the data\n",
    "- Check the structure of the data\n",
    "- Check data types\n",
    "- Check for data irregularity (ex: duplicates, spelling errors) if any\n",
    "- Check null values and treat if any\n",
    "- Check statistical summary"
   ]
  },
  {
   "cell_type": "code",
   "execution_count": 197,
   "id": "714e53fa",
   "metadata": {},
   "outputs": [],
   "source": [
    "#Import libraries\n",
    "import numpy as np\n",
    "import pandas as pd\n",
    "import matplotlib.pyplot as plt\n",
    "import seaborn as sns\n",
    "pd.options.display.max_rows = 10\n",
    "%matplotlib inline"
   ]
  },
  {
   "cell_type": "code",
   "execution_count": 198,
   "id": "93583c4a",
   "metadata": {},
   "outputs": [
    {
     "data": {
      "text/html": [
       "<div>\n",
       "<style scoped>\n",
       "    .dataframe tbody tr th:only-of-type {\n",
       "        vertical-align: middle;\n",
       "    }\n",
       "\n",
       "    .dataframe tbody tr th {\n",
       "        vertical-align: top;\n",
       "    }\n",
       "\n",
       "    .dataframe thead th {\n",
       "        text-align: right;\n",
       "    }\n",
       "</style>\n",
       "<table border=\"1\" class=\"dataframe\">\n",
       "  <thead>\n",
       "    <tr style=\"text-align: right;\">\n",
       "      <th></th>\n",
       "      <th>Buyer/Spender</th>\n",
       "      <th>Channel</th>\n",
       "      <th>Region</th>\n",
       "      <th>Fresh</th>\n",
       "      <th>Milk</th>\n",
       "      <th>Grocery</th>\n",
       "      <th>Frozen</th>\n",
       "      <th>Detergents_Paper</th>\n",
       "      <th>Delicatessen</th>\n",
       "    </tr>\n",
       "  </thead>\n",
       "  <tbody>\n",
       "    <tr>\n",
       "      <th>0</th>\n",
       "      <td>1</td>\n",
       "      <td>Retail</td>\n",
       "      <td>Other</td>\n",
       "      <td>12669</td>\n",
       "      <td>9656</td>\n",
       "      <td>7561</td>\n",
       "      <td>214</td>\n",
       "      <td>2674</td>\n",
       "      <td>1338</td>\n",
       "    </tr>\n",
       "    <tr>\n",
       "      <th>1</th>\n",
       "      <td>2</td>\n",
       "      <td>Retail</td>\n",
       "      <td>Other</td>\n",
       "      <td>7057</td>\n",
       "      <td>9810</td>\n",
       "      <td>9568</td>\n",
       "      <td>1762</td>\n",
       "      <td>3293</td>\n",
       "      <td>1776</td>\n",
       "    </tr>\n",
       "    <tr>\n",
       "      <th>2</th>\n",
       "      <td>3</td>\n",
       "      <td>Retail</td>\n",
       "      <td>Other</td>\n",
       "      <td>6353</td>\n",
       "      <td>8808</td>\n",
       "      <td>7684</td>\n",
       "      <td>2405</td>\n",
       "      <td>3516</td>\n",
       "      <td>7844</td>\n",
       "    </tr>\n",
       "    <tr>\n",
       "      <th>3</th>\n",
       "      <td>4</td>\n",
       "      <td>Hotel</td>\n",
       "      <td>Other</td>\n",
       "      <td>13265</td>\n",
       "      <td>1196</td>\n",
       "      <td>4221</td>\n",
       "      <td>6404</td>\n",
       "      <td>507</td>\n",
       "      <td>1788</td>\n",
       "    </tr>\n",
       "    <tr>\n",
       "      <th>4</th>\n",
       "      <td>5</td>\n",
       "      <td>Retail</td>\n",
       "      <td>Other</td>\n",
       "      <td>22615</td>\n",
       "      <td>5410</td>\n",
       "      <td>7198</td>\n",
       "      <td>3915</td>\n",
       "      <td>1777</td>\n",
       "      <td>5185</td>\n",
       "    </tr>\n",
       "  </tbody>\n",
       "</table>\n",
       "</div>"
      ],
      "text/plain": [
       "   Buyer/Spender Channel Region  Fresh  Milk  Grocery  Frozen  \\\n",
       "0              1  Retail  Other  12669  9656     7561     214   \n",
       "1              2  Retail  Other   7057  9810     9568    1762   \n",
       "2              3  Retail  Other   6353  8808     7684    2405   \n",
       "3              4   Hotel  Other  13265  1196     4221    6404   \n",
       "4              5  Retail  Other  22615  5410     7198    3915   \n",
       "\n",
       "   Detergents_Paper  Delicatessen  \n",
       "0              2674          1338  \n",
       "1              3293          1776  \n",
       "2              3516          7844  \n",
       "3               507          1788  \n",
       "4              1777          5185  "
      ]
     },
     "execution_count": 198,
     "metadata": {},
     "output_type": "execute_result"
    }
   ],
   "source": [
    "#Load the Data\n",
    "wholesale=pd.read_csv(r'D:\\dsba\\statistical methods for decision making\\wholesale customer.csv')\n",
    "wholesale.head()"
   ]
  },
  {
   "cell_type": "code",
   "execution_count": 199,
   "id": "d2b9bc7e",
   "metadata": {},
   "outputs": [
    {
     "data": {
      "text/plain": [
       "(440, 9)"
      ]
     },
     "execution_count": 199,
     "metadata": {},
     "output_type": "execute_result"
    }
   ],
   "source": [
    "#Structure of the data\n",
    "wholesale.shape"
   ]
  },
  {
   "cell_type": "code",
   "execution_count": 200,
   "id": "94e945d2",
   "metadata": {},
   "outputs": [
    {
     "name": "stdout",
     "output_type": "stream",
     "text": [
      "<class 'pandas.core.frame.DataFrame'>\n",
      "RangeIndex: 440 entries, 0 to 439\n",
      "Data columns (total 9 columns):\n",
      " #   Column            Non-Null Count  Dtype \n",
      "---  ------            --------------  ----- \n",
      " 0   Buyer/Spender     440 non-null    int64 \n",
      " 1   Channel           440 non-null    object\n",
      " 2   Region            440 non-null    object\n",
      " 3   Fresh             440 non-null    int64 \n",
      " 4   Milk              440 non-null    int64 \n",
      " 5   Grocery           440 non-null    int64 \n",
      " 6   Frozen            440 non-null    int64 \n",
      " 7   Detergents_Paper  440 non-null    int64 \n",
      " 8   Delicatessen      440 non-null    int64 \n",
      "dtypes: int64(7), object(2)\n",
      "memory usage: 31.1+ KB\n"
     ]
    }
   ],
   "source": [
    "#Data types\n",
    "wholesale.info()"
   ]
  },
  {
   "cell_type": "code",
   "execution_count": 201,
   "id": "893bb59b",
   "metadata": {},
   "outputs": [
    {
     "name": "stdout",
     "output_type": "stream",
     "text": [
      "Number of duplicate rows = 0\n"
     ]
    },
    {
     "data": {
      "text/html": [
       "<div>\n",
       "<style scoped>\n",
       "    .dataframe tbody tr th:only-of-type {\n",
       "        vertical-align: middle;\n",
       "    }\n",
       "\n",
       "    .dataframe tbody tr th {\n",
       "        vertical-align: top;\n",
       "    }\n",
       "\n",
       "    .dataframe thead th {\n",
       "        text-align: right;\n",
       "    }\n",
       "</style>\n",
       "<table border=\"1\" class=\"dataframe\">\n",
       "  <thead>\n",
       "    <tr style=\"text-align: right;\">\n",
       "      <th></th>\n",
       "      <th>Buyer/Spender</th>\n",
       "      <th>Channel</th>\n",
       "      <th>Region</th>\n",
       "      <th>Fresh</th>\n",
       "      <th>Milk</th>\n",
       "      <th>Grocery</th>\n",
       "      <th>Frozen</th>\n",
       "      <th>Detergents_Paper</th>\n",
       "      <th>Delicatessen</th>\n",
       "    </tr>\n",
       "  </thead>\n",
       "  <tbody>\n",
       "  </tbody>\n",
       "</table>\n",
       "</div>"
      ],
      "text/plain": [
       "Empty DataFrame\n",
       "Columns: [Buyer/Spender, Channel, Region, Fresh, Milk, Grocery, Frozen, Detergents_Paper, Delicatessen]\n",
       "Index: []"
      ]
     },
     "execution_count": 201,
     "metadata": {},
     "output_type": "execute_result"
    }
   ],
   "source": [
    "# Check for duplicate data\n",
    "duplicate = wholesale.duplicated()\n",
    "print('Number of duplicate rows = %d' % (duplicate.sum()))\n",
    "wholesale[duplicate]"
   ]
  },
  {
   "cell_type": "code",
   "execution_count": 202,
   "id": "d66622f0",
   "metadata": {},
   "outputs": [
    {
     "name": "stdout",
     "output_type": "stream",
     "text": [
      "['Retail' 'Hotel']\n",
      "['Other' 'Lisbon' 'Oporto']\n"
     ]
    }
   ],
   "source": [
    "#Checking unique values (spelling errors)\n",
    "a = wholesale['Channel'].unique()\n",
    "print(a)\n",
    "b = wholesale['Region'].unique()\n",
    "print(b)"
   ]
  },
  {
   "cell_type": "code",
   "execution_count": 203,
   "id": "8790b472",
   "metadata": {},
   "outputs": [
    {
     "name": "stdout",
     "output_type": "stream",
     "text": [
      "Buyer/Spender 0\n",
      "Channel 0\n",
      "Region 0\n",
      "Fresh 0\n",
      "Milk 0\n",
      "Grocery 0\n",
      "Frozen 0\n",
      "Detergents_Paper 0\n",
      "Delicatessen 0\n"
     ]
    }
   ],
   "source": [
    "#Check for columns with null values\n",
    "for i in wholesale.columns:\n",
    "    print(i,wholesale[i].isnull().sum())"
   ]
  },
  {
   "cell_type": "code",
   "execution_count": 204,
   "id": "58f7b52f",
   "metadata": {},
   "outputs": [
    {
     "data": {
      "text/html": [
       "<div>\n",
       "<style scoped>\n",
       "    .dataframe tbody tr th:only-of-type {\n",
       "        vertical-align: middle;\n",
       "    }\n",
       "\n",
       "    .dataframe tbody tr th {\n",
       "        vertical-align: top;\n",
       "    }\n",
       "\n",
       "    .dataframe thead th {\n",
       "        text-align: right;\n",
       "    }\n",
       "</style>\n",
       "<table border=\"1\" class=\"dataframe\">\n",
       "  <thead>\n",
       "    <tr style=\"text-align: right;\">\n",
       "      <th></th>\n",
       "      <th>Buyer/Spender</th>\n",
       "      <th>Fresh</th>\n",
       "      <th>Milk</th>\n",
       "      <th>Grocery</th>\n",
       "      <th>Frozen</th>\n",
       "      <th>Detergents_Paper</th>\n",
       "      <th>Delicatessen</th>\n",
       "    </tr>\n",
       "  </thead>\n",
       "  <tbody>\n",
       "    <tr>\n",
       "      <th>count</th>\n",
       "      <td>440.000000</td>\n",
       "      <td>440.000000</td>\n",
       "      <td>440.000000</td>\n",
       "      <td>440.000000</td>\n",
       "      <td>440.000000</td>\n",
       "      <td>440.000000</td>\n",
       "      <td>440.000000</td>\n",
       "    </tr>\n",
       "    <tr>\n",
       "      <th>mean</th>\n",
       "      <td>220.500000</td>\n",
       "      <td>12000.297727</td>\n",
       "      <td>5796.265909</td>\n",
       "      <td>7951.277273</td>\n",
       "      <td>3071.931818</td>\n",
       "      <td>2881.493182</td>\n",
       "      <td>1524.870455</td>\n",
       "    </tr>\n",
       "    <tr>\n",
       "      <th>std</th>\n",
       "      <td>127.161315</td>\n",
       "      <td>12647.328865</td>\n",
       "      <td>7380.377175</td>\n",
       "      <td>9503.162829</td>\n",
       "      <td>4854.673333</td>\n",
       "      <td>4767.854448</td>\n",
       "      <td>2820.105937</td>\n",
       "    </tr>\n",
       "    <tr>\n",
       "      <th>min</th>\n",
       "      <td>1.000000</td>\n",
       "      <td>3.000000</td>\n",
       "      <td>55.000000</td>\n",
       "      <td>3.000000</td>\n",
       "      <td>25.000000</td>\n",
       "      <td>3.000000</td>\n",
       "      <td>3.000000</td>\n",
       "    </tr>\n",
       "    <tr>\n",
       "      <th>25%</th>\n",
       "      <td>110.750000</td>\n",
       "      <td>3127.750000</td>\n",
       "      <td>1533.000000</td>\n",
       "      <td>2153.000000</td>\n",
       "      <td>742.250000</td>\n",
       "      <td>256.750000</td>\n",
       "      <td>408.250000</td>\n",
       "    </tr>\n",
       "    <tr>\n",
       "      <th>50%</th>\n",
       "      <td>220.500000</td>\n",
       "      <td>8504.000000</td>\n",
       "      <td>3627.000000</td>\n",
       "      <td>4755.500000</td>\n",
       "      <td>1526.000000</td>\n",
       "      <td>816.500000</td>\n",
       "      <td>965.500000</td>\n",
       "    </tr>\n",
       "    <tr>\n",
       "      <th>75%</th>\n",
       "      <td>330.250000</td>\n",
       "      <td>16933.750000</td>\n",
       "      <td>7190.250000</td>\n",
       "      <td>10655.750000</td>\n",
       "      <td>3554.250000</td>\n",
       "      <td>3922.000000</td>\n",
       "      <td>1820.250000</td>\n",
       "    </tr>\n",
       "    <tr>\n",
       "      <th>max</th>\n",
       "      <td>440.000000</td>\n",
       "      <td>112151.000000</td>\n",
       "      <td>73498.000000</td>\n",
       "      <td>92780.000000</td>\n",
       "      <td>60869.000000</td>\n",
       "      <td>40827.000000</td>\n",
       "      <td>47943.000000</td>\n",
       "    </tr>\n",
       "  </tbody>\n",
       "</table>\n",
       "</div>"
      ],
      "text/plain": [
       "       Buyer/Spender          Fresh          Milk       Grocery        Frozen  \\\n",
       "count     440.000000     440.000000    440.000000    440.000000    440.000000   \n",
       "mean      220.500000   12000.297727   5796.265909   7951.277273   3071.931818   \n",
       "std       127.161315   12647.328865   7380.377175   9503.162829   4854.673333   \n",
       "min         1.000000       3.000000     55.000000      3.000000     25.000000   \n",
       "25%       110.750000    3127.750000   1533.000000   2153.000000    742.250000   \n",
       "50%       220.500000    8504.000000   3627.000000   4755.500000   1526.000000   \n",
       "75%       330.250000   16933.750000   7190.250000  10655.750000   3554.250000   \n",
       "max       440.000000  112151.000000  73498.000000  92780.000000  60869.000000   \n",
       "\n",
       "       Detergents_Paper  Delicatessen  \n",
       "count        440.000000    440.000000  \n",
       "mean        2881.493182   1524.870455  \n",
       "std         4767.854448   2820.105937  \n",
       "min            3.000000      3.000000  \n",
       "25%          256.750000    408.250000  \n",
       "50%          816.500000    965.500000  \n",
       "75%         3922.000000   1820.250000  \n",
       "max        40827.000000  47943.000000  "
      ]
     },
     "execution_count": 204,
     "metadata": {},
     "output_type": "execute_result"
    }
   ],
   "source": [
    "#Statistical summary\n",
    "wholesale.describe()"
   ]
  },
  {
   "cell_type": "markdown",
   "id": "320eb3dd",
   "metadata": {},
   "source": [
    "## Exploratory Data Analysis  "
   ]
  },
  {
   "cell_type": "markdown",
   "id": "aa7ecdd9",
   "metadata": {},
   "source": [
    "Univariate analysis \n",
    "\n",
    "- Explore all the variables (categorical and numerical) in the data\n",
    "- Check for and treat (if needed) outliers"
   ]
  },
  {
   "cell_type": "code",
   "execution_count": 205,
   "id": "06d85ee9",
   "metadata": {},
   "outputs": [
    {
     "data": {
      "text/plain": [
       "<AxesSubplot:xlabel='Channel', ylabel='count'>"
      ]
     },
     "execution_count": 205,
     "metadata": {},
     "output_type": "execute_result"
    },
    {
     "data": {
      "image/png": "[encoded data removed]",
      "text/plain": [
       "<Figure size 432x288 with 1 Axes>"
      ]
     },
     "metadata": {
      "needs_background": "light"
     },
     "output_type": "display_data"
    }
   ],
   "source": [
    "#Channel count\n",
    "sns.countplot(data=wholesale, x='Channel')"
   ]
  },
  {
   "cell_type": "code",
   "execution_count": 206,
   "id": "0dc947e2",
   "metadata": {},
   "outputs": [
    {
     "data": {
      "text/plain": [
       "<AxesSubplot:xlabel='Region', ylabel='count'>"
      ]
     },
     "execution_count": 206,
     "metadata": {},
     "output_type": "execute_result"
    },
    {
     "data": {
      "image/png": "[encoded data removed]",
      "text/plain": [
       "<Figure size 432x288 with 1 Axes>"
      ]
     },
     "metadata": {
      "needs_background": "light"
     },
     "output_type": "display_data"
    }
   ],
   "source": [
    "#Region count\n",
    "sns.countplot(data=wholesale, x='Region')"
   ]
  },
  {
   "cell_type": "code",
   "execution_count": 207,
   "id": "bd1b47e2",
   "metadata": {},
   "outputs": [
    {
     "data": {
      "image/png": "[encoded data removed]",
      "text/plain": [
       "<Figure size 432x288 with 1 Axes>"
      ]
     },
     "metadata": {
      "needs_background": "light"
     },
     "output_type": "display_data"
    }
   ],
   "source": [
    "#Spending across categories\n",
    "sns.histplot(data=wholesale, x='Fresh', kde=True);"
   ]
  },
  {
   "cell_type": "code",
   "execution_count": 208,
   "id": "ea9e4f82",
   "metadata": {},
   "outputs": [
    {
     "data": {
      "image/png": "[encoded data removed]",
      "text/plain": [
       "<Figure size 432x288 with 1 Axes>"
      ]
     },
     "metadata": {
      "needs_background": "light"
     },
     "output_type": "display_data"
    }
   ],
   "source": [
    "#Spending across categories\n",
    "sns.histplot(data=wholesale, x='Milk', kde=True);"
   ]
  },
  {
   "cell_type": "code",
   "execution_count": 209,
   "id": "a17f23b6",
   "metadata": {},
   "outputs": [
    {
     "data": {
      "image/png": "[encoded data removed]",
      "text/plain": [
       "<Figure size 432x288 with 1 Axes>"
      ]
     },
     "metadata": {
      "needs_background": "light"
     },
     "output_type": "display_data"
    }
   ],
   "source": [
    "#Spending across categories\n",
    "sns.histplot(data=wholesale, x='Grocery', kde=True);"
   ]
  },
  {
   "cell_type": "code",
   "execution_count": 210,
   "id": "20c17756",
   "metadata": {},
   "outputs": [
    {
     "data": {
      "image/png": "[encoded data removed]",
      "text/plain": [
       "<Figure size 432x288 with 1 Axes>"
      ]
     },
     "metadata": {
      "needs_background": "light"
     },
     "output_type": "display_data"
    }
   ],
   "source": [
    "#Spending across categories\n",
    "sns.histplot(data=wholesale, x='Frozen', kde=True);"
   ]
  },
  {
   "cell_type": "code",
   "execution_count": 211,
   "id": "8d4dd9d7",
   "metadata": {},
   "outputs": [
    {
     "data": {
      "image/png": "[encoded data removed]",
      "text/plain": [
       "<Figure size 432x288 with 1 Axes>"
      ]
     },
     "metadata": {
      "needs_background": "light"
     },
     "output_type": "display_data"
    }
   ],
   "source": [
    "#Spending across categories\n",
    "sns.histplot(data=wholesale, x='Detergents_Paper', kde=True);"
   ]
  },
  {
   "cell_type": "code",
   "execution_count": 212,
   "id": "7f3f9d66",
   "metadata": {},
   "outputs": [
    {
     "data": {
      "image/png": "[encoded data removed]",
      "text/plain": [
       "<Figure size 432x288 with 1 Axes>"
      ]
     },
     "metadata": {
      "needs_background": "light"
     },
     "output_type": "display_data"
    }
   ],
   "source": [
    "#Spending across categories\n",
    "sns.histplot(data=wholesale, x='Delicatessen', kde=True);"
   ]
  },
  {
   "cell_type": "code",
   "execution_count": 213,
   "id": "27ccbd0e",
   "metadata": {},
   "outputs": [
    {
     "data": {
      "text/plain": [
       "<AxesSubplot:xlabel='Fresh'>"
      ]
     },
     "execution_count": 213,
     "metadata": {},
     "output_type": "execute_result"
    },
    {
     "data": {
      "image/png": "[encoded data removed]",
      "text/plain": [
       "<Figure size 432x288 with 1 Axes>"
      ]
     },
     "metadata": {
      "needs_background": "light"
     },
     "output_type": "display_data"
    }
   ],
   "source": [
    "#Check for outliers \n",
    "sns.boxplot(data=wholesale, x='Fresh', color='red')"
   ]
  },
  {
   "cell_type": "code",
   "execution_count": 214,
   "id": "eada243c",
   "metadata": {},
   "outputs": [
    {
     "data": {
      "text/plain": [
       "<AxesSubplot:xlabel='Milk'>"
      ]
     },
     "execution_count": 214,
     "metadata": {},
     "output_type": "execute_result"
    },
    {
     "data": {
      "image/png": "[encoded data removed]",
      "text/plain": [
       "<Figure size 432x288 with 1 Axes>"
      ]
     },
     "metadata": {
      "needs_background": "light"
     },
     "output_type": "display_data"
    }
   ],
   "source": [
    "#Check for outliers \n",
    "sns.boxplot(data=wholesale, x='Milk', color='red')"
   ]
  },
  {
   "cell_type": "code",
   "execution_count": 215,
   "id": "11dad727",
   "metadata": {},
   "outputs": [
    {
     "data": {
      "text/plain": [
       "<AxesSubplot:xlabel='Grocery'>"
      ]
     },
     "execution_count": 215,
     "metadata": {},
     "output_type": "execute_result"
    },
    {
     "data": {
      "image/png": "[encoded data removed]",
      "text/plain": [
       "<Figure size 432x288 with 1 Axes>"
      ]
     },
     "metadata": {
      "needs_background": "light"
     },
     "output_type": "display_data"
    }
   ],
   "source": [
    "#Check for outliers \n",
    "sns.boxplot(data=wholesale, x='Grocery', color='red')"
   ]
  },
  {
   "cell_type": "code",
   "execution_count": 216,
   "id": "61d2eb24",
   "metadata": {},
   "outputs": [
    {
     "data": {
      "text/plain": [
       "<AxesSubplot:xlabel='Frozen'>"
      ]
     },
     "execution_count": 216,
     "metadata": {},
     "output_type": "execute_result"
    },
    {
     "data": {
      "image/png": "[encoded data removed]",
      "text/plain": [
       "<Figure size 432x288 with 1 Axes>"
      ]
     },
     "metadata": {
      "needs_background": "light"
     },
     "output_type": "display_data"
    }
   ],
   "source": [
    "#Check for outliers \n",
    "sns.boxplot(data=wholesale, x='Frozen', color='red')"
   ]
  },
  {
   "cell_type": "code",
   "execution_count": 217,
   "id": "40b97358",
   "metadata": {},
   "outputs": [
    {
     "data": {
      "text/plain": [
       "<AxesSubplot:xlabel='Detergents_Paper'>"
      ]
     },
     "execution_count": 217,
     "metadata": {},
     "output_type": "execute_result"
    },
    {
     "data": {
      "image/png": "[encoded data removed]",
      "text/plain": [
       "<Figure size 432x288 with 1 Axes>"
      ]
     },
     "metadata": {
      "needs_background": "light"
     },
     "output_type": "display_data"
    }
   ],
   "source": [
    "#Check for outliers \n",
    "sns.boxplot(data=wholesale, x='Detergents_Paper', color='red')"
   ]
  },
  {
   "cell_type": "code",
   "execution_count": 218,
   "id": "04bb4292",
   "metadata": {},
   "outputs": [
    {
     "data": {
      "text/plain": [
       "<AxesSubplot:xlabel='Delicatessen'>"
      ]
     },
     "execution_count": 218,
     "metadata": {},
     "output_type": "execute_result"
    },
    {
     "data": {
      "image/png": "[encoded data removed]",
      "text/plain": [
       "<Figure size 432x288 with 1 Axes>"
      ]
     },
     "metadata": {
      "needs_background": "light"
     },
     "output_type": "display_data"
    }
   ],
   "source": [
    "#Check for outliers \n",
    "sns.boxplot(data=wholesale, x='Delicatessen', color='red')"
   ]
  },
  {
   "cell_type": "markdown",
   "id": "c95d3316",
   "metadata": {},
   "source": [
    "Bivariate & Multivariate Analysis"
   ]
  },
  {
   "cell_type": "markdown",
   "id": "9c05607d",
   "metadata": {},
   "source": [
    "- Explore the relationship between all numerical variables \n",
    "- Explore the correlation between all numerical variables \n",
    "- Explore the relationship between categorical vs numerical variables"
   ]
  },
  {
   "cell_type": "code",
   "execution_count": 219,
   "id": "80690660",
   "metadata": {},
   "outputs": [
    {
     "data": {
      "text/html": [
       "<div>\n",
       "<style scoped>\n",
       "    .dataframe tbody tr th:only-of-type {\n",
       "        vertical-align: middle;\n",
       "    }\n",
       "\n",
       "    .dataframe tbody tr th {\n",
       "        vertical-align: top;\n",
       "    }\n",
       "\n",
       "    .dataframe thead th {\n",
       "        text-align: right;\n",
       "    }\n",
       "</style>\n",
       "<table border=\"1\" class=\"dataframe\">\n",
       "  <thead>\n",
       "    <tr style=\"text-align: right;\">\n",
       "      <th></th>\n",
       "      <th>Buyer/Spender</th>\n",
       "      <th>Channel</th>\n",
       "      <th>Region</th>\n",
       "      <th>Fresh</th>\n",
       "      <th>Milk</th>\n",
       "      <th>Grocery</th>\n",
       "      <th>Frozen</th>\n",
       "      <th>Detergents_Paper</th>\n",
       "      <th>Delicatessen</th>\n",
       "      <th>Total</th>\n",
       "    </tr>\n",
       "  </thead>\n",
       "  <tbody>\n",
       "    <tr>\n",
       "      <th>0</th>\n",
       "      <td>1</td>\n",
       "      <td>Retail</td>\n",
       "      <td>Other</td>\n",
       "      <td>12669</td>\n",
       "      <td>9656</td>\n",
       "      <td>7561</td>\n",
       "      <td>214</td>\n",
       "      <td>2674</td>\n",
       "      <td>1338</td>\n",
       "      <td>34112</td>\n",
       "    </tr>\n",
       "    <tr>\n",
       "      <th>1</th>\n",
       "      <td>2</td>\n",
       "      <td>Retail</td>\n",
       "      <td>Other</td>\n",
       "      <td>7057</td>\n",
       "      <td>9810</td>\n",
       "      <td>9568</td>\n",
       "      <td>1762</td>\n",
       "      <td>3293</td>\n",
       "      <td>1776</td>\n",
       "      <td>33266</td>\n",
       "    </tr>\n",
       "    <tr>\n",
       "      <th>2</th>\n",
       "      <td>3</td>\n",
       "      <td>Retail</td>\n",
       "      <td>Other</td>\n",
       "      <td>6353</td>\n",
       "      <td>8808</td>\n",
       "      <td>7684</td>\n",
       "      <td>2405</td>\n",
       "      <td>3516</td>\n",
       "      <td>7844</td>\n",
       "      <td>36610</td>\n",
       "    </tr>\n",
       "    <tr>\n",
       "      <th>3</th>\n",
       "      <td>4</td>\n",
       "      <td>Hotel</td>\n",
       "      <td>Other</td>\n",
       "      <td>13265</td>\n",
       "      <td>1196</td>\n",
       "      <td>4221</td>\n",
       "      <td>6404</td>\n",
       "      <td>507</td>\n",
       "      <td>1788</td>\n",
       "      <td>27381</td>\n",
       "    </tr>\n",
       "    <tr>\n",
       "      <th>4</th>\n",
       "      <td>5</td>\n",
       "      <td>Retail</td>\n",
       "      <td>Other</td>\n",
       "      <td>22615</td>\n",
       "      <td>5410</td>\n",
       "      <td>7198</td>\n",
       "      <td>3915</td>\n",
       "      <td>1777</td>\n",
       "      <td>5185</td>\n",
       "      <td>46100</td>\n",
       "    </tr>\n",
       "  </tbody>\n",
       "</table>\n",
       "</div>"
      ],
      "text/plain": [
       "   Buyer/Spender Channel Region  Fresh  Milk  Grocery  Frozen  \\\n",
       "0              1  Retail  Other  12669  9656     7561     214   \n",
       "1              2  Retail  Other   7057  9810     9568    1762   \n",
       "2              3  Retail  Other   6353  8808     7684    2405   \n",
       "3              4   Hotel  Other  13265  1196     4221    6404   \n",
       "4              5  Retail  Other  22615  5410     7198    3915   \n",
       "\n",
       "   Detergents_Paper  Delicatessen  Total  \n",
       "0              2674          1338  34112  \n",
       "1              3293          1776  33266  \n",
       "2              3516          7844  36610  \n",
       "3               507          1788  27381  \n",
       "4              1777          5185  46100  "
      ]
     },
     "execution_count": 219,
     "metadata": {},
     "output_type": "execute_result"
    }
   ],
   "source": [
    "#Total spending\n",
    "wholesale['Total'] = wholesale[['Fresh', 'Milk', 'Grocery', 'Frozen','Detergents_Paper', 'Delicatessen' ]].sum(axis=1)\n",
    "wholesale.head()"
   ]
  },
  {
   "cell_type": "code",
   "execution_count": 220,
   "id": "86836584",
   "metadata": {},
   "outputs": [
    {
     "data": {
      "text/plain": [
       "Channel\n",
       "Hotel     7999569\n",
       "Retail    6619931\n",
       "Name: Total, dtype: int64"
      ]
     },
     "execution_count": 220,
     "metadata": {},
     "output_type": "execute_result"
    }
   ],
   "source": [
    "#Total spending based on channels\n",
    "total_spending_channel = wholesale.groupby(['Channel'])['Total'].sum()\n",
    "total_spending_channel"
   ]
  },
  {
   "cell_type": "code",
   "execution_count": 221,
   "id": "d0388b63",
   "metadata": {},
   "outputs": [
    {
     "data": {
      "image/png": "[encoded data removed]",
      "text/plain": [
       "<Figure size 432x288 with 1 Axes>"
      ]
     },
     "metadata": {
      "needs_background": "light"
     },
     "output_type": "display_data"
    }
   ],
   "source": [
    "sns.barplot(x='Channel', y='Total', estimator = np.sum, data=wholesale, ci=None)\n",
    "plt.show()"
   ]
  },
  {
   "cell_type": "code",
   "execution_count": 222,
   "id": "2346f8a5",
   "metadata": {},
   "outputs": [
    {
     "name": "stdout",
     "output_type": "stream",
     "text": [
      "Region\n",
      "Lisbon     2386813\n",
      "Oporto     1555088\n",
      "Other     10677599\n",
      "Name: Total, dtype: int64\n"
     ]
    },
    {
     "data": {
      "image/png": "[encoded data removed]",
      "text/plain": [
       "<Figure size 432x288 with 1 Axes>"
      ]
     },
     "metadata": {
      "needs_background": "light"
     },
     "output_type": "display_data"
    }
   ],
   "source": [
    "#Total spending based on regions\n",
    "total_spending_region = wholesale.groupby(['Region'])['Total'].sum()\n",
    "print(total_spending_region)\n",
    "sns.barplot(x='Region', y='Total', estimator = np.sum, data=wholesale, ci=None)\n",
    "plt.show()"
   ]
  },
  {
   "cell_type": "code",
   "execution_count": 223,
   "id": "3f8c5bc9",
   "metadata": {},
   "outputs": [
    {
     "data": {
      "image/png": "[encoded data removed]",
      "text/plain": [
       "<Figure size 432x288 with 1 Axes>"
      ]
     },
     "metadata": {
      "needs_background": "light"
     },
     "output_type": "display_data"
    }
   ],
   "source": [
    "sns.barplot(x='Region', y='Total', hue='Channel', estimator = np.sum, data=wholesale, ci=None)\n",
    "plt.show()"
   ]
  },
  {
   "cell_type": "code",
   "execution_count": 224,
   "id": "0af04da7",
   "metadata": {},
   "outputs": [
    {
     "data": {
      "image/png": "[encoded data removed]",
      "text/plain": [
       "<Figure size 432x288 with 1 Axes>"
      ]
     },
     "metadata": {
      "needs_background": "light"
     },
     "output_type": "display_data"
    }
   ],
   "source": [
    "sns.boxplot(x='Region', y='Total', hue='Channel', data=wholesale)\n",
    "plt.show()"
   ]
  },
  {
   "cell_type": "code",
   "execution_count": 225,
   "id": "4e8132a7",
   "metadata": {},
   "outputs": [
    {
     "data": {
      "text/plain": [
       "Text(0.5, 1.0, 'Spending on fresh products')"
      ]
     },
     "execution_count": 225,
     "metadata": {},
     "output_type": "execute_result"
    },
    {
     "data": {
      "image/png": "[encoded data removed]",
      "text/plain": [
       "<Figure size 432x288 with 1 Axes>"
      ]
     },
     "metadata": {
      "needs_background": "light"
     },
     "output_type": "display_data"
    }
   ],
   "source": [
    "#Spending on each item across regions and channnels\n",
    "sns.barplot(data=wholesale, x='Region', y='Fresh', hue='Channel')\n",
    "plt.title('Spending on fresh products')"
   ]
  },
  {
   "cell_type": "code",
   "execution_count": 226,
   "id": "66484c60",
   "metadata": {},
   "outputs": [
    {
     "data": {
      "text/plain": [
       "Text(0.5, 1.0, 'Spending on milk')"
      ]
     },
     "execution_count": 226,
     "metadata": {},
     "output_type": "execute_result"
    },
    {
     "data": {
      "image/png": "[encoded data removed]",
      "text/plain": [
       "<Figure size 432x288 with 1 Axes>"
      ]
     },
     "metadata": {
      "needs_background": "light"
     },
     "output_type": "display_data"
    }
   ],
   "source": [
    "#Spending on each item across regions and channnels\n",
    "sns.barplot(data=wholesale, x='Region', y='Milk', hue='Channel')\n",
    "plt.title('Spending on milk')"
   ]
  },
  {
   "cell_type": "code",
   "execution_count": 227,
   "id": "2425a2d0",
   "metadata": {},
   "outputs": [
    {
     "data": {
      "text/plain": [
       "Text(0.5, 1.0, 'Spending on grocery')"
      ]
     },
     "execution_count": 227,
     "metadata": {},
     "output_type": "execute_result"
    },
    {
     "data": {
      "image/png": "[encoded data removed]",
      "text/plain": [
       "<Figure size 432x288 with 1 Axes>"
      ]
     },
     "metadata": {
      "needs_background": "light"
     },
     "output_type": "display_data"
    }
   ],
   "source": [
    "#Spending on each item across regions and channnels\n",
    "sns.barplot(data=wholesale, x='Region', y='Grocery', hue='Channel')\n",
    "plt.title('Spending on grocery')"
   ]
  },
  {
   "cell_type": "code",
   "execution_count": 228,
   "id": "933012ce",
   "metadata": {},
   "outputs": [
    {
     "data": {
      "text/plain": [
       "Text(0.5, 1.0, 'Spending on frozen products')"
      ]
     },
     "execution_count": 228,
     "metadata": {},
     "output_type": "execute_result"
    },
    {
     "data": {
      "image/png": "[encoded data removed]",
      "text/plain": [
       "<Figure size 432x288 with 1 Axes>"
      ]
     },
     "metadata": {
      "needs_background": "light"
     },
     "output_type": "display_data"
    }
   ],
   "source": [
    "#Spending on each item across regions and channnels\n",
    "sns.barplot(data=wholesale, x='Region', y='Frozen', hue='Channel')\n",
    "plt.title('Spending on frozen products')"
   ]
  },
  {
   "cell_type": "code",
   "execution_count": 229,
   "id": "f9cbdada",
   "metadata": {},
   "outputs": [
    {
     "data": {
      "text/plain": [
       "Text(0.5, 1.0, 'Spending on Detergents_Paper')"
      ]
     },
     "execution_count": 229,
     "metadata": {},
     "output_type": "execute_result"
    },
    {
     "data": {
      "image/png": "[encoded data removed]",
      "text/plain": [
       "<Figure size 432x288 with 1 Axes>"
      ]
     },
     "metadata": {
      "needs_background": "light"
     },
     "output_type": "display_data"
    }
   ],
   "source": [
    "#Spending on each item across regions and channnels\n",
    "sns.barplot(data=wholesale, x='Region', y='Detergents_Paper', hue='Channel')\n",
    "plt.title('Spending on Detergents_Paper')"
   ]
  },
  {
   "cell_type": "code",
   "execution_count": 230,
   "id": "cea0f63b",
   "metadata": {},
   "outputs": [
    {
     "data": {
      "text/plain": [
       "Text(0.5, 1.0, 'Spending on Delicatessen')"
      ]
     },
     "execution_count": 230,
     "metadata": {},
     "output_type": "execute_result"
    },
    {
     "data": {
      "image/png": "[encoded data removed]",
      "text/plain": [
       "<Figure size 432x288 with 1 Axes>"
      ]
     },
     "metadata": {
      "needs_background": "light"
     },
     "output_type": "display_data"
    }
   ],
   "source": [
    "#Spending on each item across regions and channnels\n",
    "sns.barplot(data=wholesale, x='Region', y='Delicatessen', hue='Channel')\n",
    "plt.title('Spending on Delicatessen')"
   ]
  },
  {
   "cell_type": "code",
   "execution_count": 231,
   "id": "b08c9eb6",
   "metadata": {},
   "outputs": [
    {
     "data": {
      "text/html": [
       "<div>\n",
       "<style scoped>\n",
       "    .dataframe tbody tr th:only-of-type {\n",
       "        vertical-align: middle;\n",
       "    }\n",
       "\n",
       "    .dataframe tbody tr th {\n",
       "        vertical-align: top;\n",
       "    }\n",
       "\n",
       "    .dataframe thead th {\n",
       "        text-align: right;\n",
       "    }\n",
       "</style>\n",
       "<table border=\"1\" class=\"dataframe\">\n",
       "  <thead>\n",
       "    <tr style=\"text-align: right;\">\n",
       "      <th></th>\n",
       "      <th>Buyer/Spender</th>\n",
       "      <th>Fresh</th>\n",
       "      <th>Milk</th>\n",
       "      <th>Grocery</th>\n",
       "      <th>Frozen</th>\n",
       "      <th>Detergents_Paper</th>\n",
       "      <th>Delicatessen</th>\n",
       "      <th>Total</th>\n",
       "    </tr>\n",
       "  </thead>\n",
       "  <tbody>\n",
       "    <tr>\n",
       "      <th>count</th>\n",
       "      <td>298.000000</td>\n",
       "      <td>298.000000</td>\n",
       "      <td>298.000000</td>\n",
       "      <td>298.000000</td>\n",
       "      <td>298.000000</td>\n",
       "      <td>298.000000</td>\n",
       "      <td>298.000000</td>\n",
       "      <td>298.000000</td>\n",
       "    </tr>\n",
       "    <tr>\n",
       "      <th>mean</th>\n",
       "      <td>238.369128</td>\n",
       "      <td>13475.560403</td>\n",
       "      <td>3451.724832</td>\n",
       "      <td>3962.137584</td>\n",
       "      <td>3748.251678</td>\n",
       "      <td>790.560403</td>\n",
       "      <td>1415.956376</td>\n",
       "      <td>26844.191275</td>\n",
       "    </tr>\n",
       "    <tr>\n",
       "      <th>std</th>\n",
       "      <td>120.910343</td>\n",
       "      <td>13831.687502</td>\n",
       "      <td>4352.165571</td>\n",
       "      <td>3545.513391</td>\n",
       "      <td>5643.912500</td>\n",
       "      <td>1104.093673</td>\n",
       "      <td>3147.426922</td>\n",
       "      <td>22164.839073</td>\n",
       "    </tr>\n",
       "    <tr>\n",
       "      <th>min</th>\n",
       "      <td>4.000000</td>\n",
       "      <td>3.000000</td>\n",
       "      <td>55.000000</td>\n",
       "      <td>3.000000</td>\n",
       "      <td>25.000000</td>\n",
       "      <td>3.000000</td>\n",
       "      <td>3.000000</td>\n",
       "      <td>904.000000</td>\n",
       "    </tr>\n",
       "    <tr>\n",
       "      <th>25%</th>\n",
       "      <td>137.250000</td>\n",
       "      <td>4070.250000</td>\n",
       "      <td>1164.500000</td>\n",
       "      <td>1703.750000</td>\n",
       "      <td>830.000000</td>\n",
       "      <td>183.250000</td>\n",
       "      <td>379.000000</td>\n",
       "      <td>13859.250000</td>\n",
       "    </tr>\n",
       "    <tr>\n",
       "      <th>50%</th>\n",
       "      <td>241.500000</td>\n",
       "      <td>9581.500000</td>\n",
       "      <td>2157.000000</td>\n",
       "      <td>2684.000000</td>\n",
       "      <td>2057.500000</td>\n",
       "      <td>385.500000</td>\n",
       "      <td>821.000000</td>\n",
       "      <td>21254.500000</td>\n",
       "    </tr>\n",
       "    <tr>\n",
       "      <th>75%</th>\n",
       "      <td>344.500000</td>\n",
       "      <td>18274.750000</td>\n",
       "      <td>4029.500000</td>\n",
       "      <td>5076.750000</td>\n",
       "      <td>4558.750000</td>\n",
       "      <td>899.500000</td>\n",
       "      <td>1548.000000</td>\n",
       "      <td>32113.750000</td>\n",
       "    </tr>\n",
       "    <tr>\n",
       "      <th>max</th>\n",
       "      <td>440.000000</td>\n",
       "      <td>112151.000000</td>\n",
       "      <td>43950.000000</td>\n",
       "      <td>21042.000000</td>\n",
       "      <td>60869.000000</td>\n",
       "      <td>6907.000000</td>\n",
       "      <td>47943.000000</td>\n",
       "      <td>190169.000000</td>\n",
       "    </tr>\n",
       "  </tbody>\n",
       "</table>\n",
       "</div>"
      ],
      "text/plain": [
       "       Buyer/Spender          Fresh          Milk       Grocery        Frozen  \\\n",
       "count     298.000000     298.000000    298.000000    298.000000    298.000000   \n",
       "mean      238.369128   13475.560403   3451.724832   3962.137584   3748.251678   \n",
       "std       120.910343   13831.687502   4352.165571   3545.513391   5643.912500   \n",
       "min         4.000000       3.000000     55.000000      3.000000     25.000000   \n",
       "25%       137.250000    4070.250000   1164.500000   1703.750000    830.000000   \n",
       "50%       241.500000    9581.500000   2157.000000   2684.000000   2057.500000   \n",
       "75%       344.500000   18274.750000   4029.500000   5076.750000   4558.750000   \n",
       "max       440.000000  112151.000000  43950.000000  21042.000000  60869.000000   \n",
       "\n",
       "       Detergents_Paper  Delicatessen          Total  \n",
       "count        298.000000    298.000000     298.000000  \n",
       "mean         790.560403   1415.956376   26844.191275  \n",
       "std         1104.093673   3147.426922   22164.839073  \n",
       "min            3.000000      3.000000     904.000000  \n",
       "25%          183.250000    379.000000   13859.250000  \n",
       "50%          385.500000    821.000000   21254.500000  \n",
       "75%          899.500000   1548.000000   32113.750000  \n",
       "max         6907.000000  47943.000000  190169.000000  "
      ]
     },
     "execution_count": 231,
     "metadata": {},
     "output_type": "execute_result"
    }
   ],
   "source": [
    "#Statistical summary for Hotel\n",
    "wholesale[wholesale[\"Channel\"]==\"Hotel\"].describe() "
   ]
  },
  {
   "cell_type": "code",
   "execution_count": 232,
   "id": "3cbf05c1",
   "metadata": {},
   "outputs": [
    {
     "data": {
      "text/html": [
       "<div>\n",
       "<style scoped>\n",
       "    .dataframe tbody tr th:only-of-type {\n",
       "        vertical-align: middle;\n",
       "    }\n",
       "\n",
       "    .dataframe tbody tr th {\n",
       "        vertical-align: top;\n",
       "    }\n",
       "\n",
       "    .dataframe thead th {\n",
       "        text-align: right;\n",
       "    }\n",
       "</style>\n",
       "<table border=\"1\" class=\"dataframe\">\n",
       "  <thead>\n",
       "    <tr style=\"text-align: right;\">\n",
       "      <th></th>\n",
       "      <th>Buyer/Spender</th>\n",
       "      <th>Fresh</th>\n",
       "      <th>Milk</th>\n",
       "      <th>Grocery</th>\n",
       "      <th>Frozen</th>\n",
       "      <th>Detergents_Paper</th>\n",
       "      <th>Delicatessen</th>\n",
       "      <th>Total</th>\n",
       "    </tr>\n",
       "  </thead>\n",
       "  <tbody>\n",
       "    <tr>\n",
       "      <th>count</th>\n",
       "      <td>142.000000</td>\n",
       "      <td>142.000000</td>\n",
       "      <td>142.000000</td>\n",
       "      <td>142.000000</td>\n",
       "      <td>142.000000</td>\n",
       "      <td>142.000000</td>\n",
       "      <td>142.000000</td>\n",
       "      <td>142.000000</td>\n",
       "    </tr>\n",
       "    <tr>\n",
       "      <th>mean</th>\n",
       "      <td>183.000000</td>\n",
       "      <td>8904.323944</td>\n",
       "      <td>10716.500000</td>\n",
       "      <td>16322.852113</td>\n",
       "      <td>1652.612676</td>\n",
       "      <td>7269.507042</td>\n",
       "      <td>1753.436620</td>\n",
       "      <td>46619.232394</td>\n",
       "    </tr>\n",
       "    <tr>\n",
       "      <th>std</th>\n",
       "      <td>132.136132</td>\n",
       "      <td>8987.714750</td>\n",
       "      <td>9679.631351</td>\n",
       "      <td>12267.318094</td>\n",
       "      <td>1812.803662</td>\n",
       "      <td>6291.089697</td>\n",
       "      <td>1953.797047</td>\n",
       "      <td>29346.866491</td>\n",
       "    </tr>\n",
       "    <tr>\n",
       "      <th>min</th>\n",
       "      <td>1.000000</td>\n",
       "      <td>18.000000</td>\n",
       "      <td>928.000000</td>\n",
       "      <td>2743.000000</td>\n",
       "      <td>33.000000</td>\n",
       "      <td>332.000000</td>\n",
       "      <td>3.000000</td>\n",
       "      <td>14993.000000</td>\n",
       "    </tr>\n",
       "    <tr>\n",
       "      <th>25%</th>\n",
       "      <td>61.250000</td>\n",
       "      <td>2347.750000</td>\n",
       "      <td>5938.000000</td>\n",
       "      <td>9245.250000</td>\n",
       "      <td>534.250000</td>\n",
       "      <td>3683.500000</td>\n",
       "      <td>566.750000</td>\n",
       "      <td>30147.250000</td>\n",
       "    </tr>\n",
       "    <tr>\n",
       "      <th>50%</th>\n",
       "      <td>166.500000</td>\n",
       "      <td>5993.500000</td>\n",
       "      <td>7812.000000</td>\n",
       "      <td>12390.000000</td>\n",
       "      <td>1081.000000</td>\n",
       "      <td>5614.500000</td>\n",
       "      <td>1350.000000</td>\n",
       "      <td>37139.000000</td>\n",
       "    </tr>\n",
       "    <tr>\n",
       "      <th>75%</th>\n",
       "      <td>303.750000</td>\n",
       "      <td>12229.750000</td>\n",
       "      <td>12162.750000</td>\n",
       "      <td>20183.500000</td>\n",
       "      <td>2146.750000</td>\n",
       "      <td>8662.500000</td>\n",
       "      <td>2156.000000</td>\n",
       "      <td>51650.500000</td>\n",
       "    </tr>\n",
       "    <tr>\n",
       "      <th>max</th>\n",
       "      <td>438.000000</td>\n",
       "      <td>44466.000000</td>\n",
       "      <td>73498.000000</td>\n",
       "      <td>92780.000000</td>\n",
       "      <td>11559.000000</td>\n",
       "      <td>40827.000000</td>\n",
       "      <td>16523.000000</td>\n",
       "      <td>199891.000000</td>\n",
       "    </tr>\n",
       "  </tbody>\n",
       "</table>\n",
       "</div>"
      ],
      "text/plain": [
       "       Buyer/Spender         Fresh          Milk       Grocery        Frozen  \\\n",
       "count     142.000000    142.000000    142.000000    142.000000    142.000000   \n",
       "mean      183.000000   8904.323944  10716.500000  16322.852113   1652.612676   \n",
       "std       132.136132   8987.714750   9679.631351  12267.318094   1812.803662   \n",
       "min         1.000000     18.000000    928.000000   2743.000000     33.000000   \n",
       "25%        61.250000   2347.750000   5938.000000   9245.250000    534.250000   \n",
       "50%       166.500000   5993.500000   7812.000000  12390.000000   1081.000000   \n",
       "75%       303.750000  12229.750000  12162.750000  20183.500000   2146.750000   \n",
       "max       438.000000  44466.000000  73498.000000  92780.000000  11559.000000   \n",
       "\n",
       "       Detergents_Paper  Delicatessen          Total  \n",
       "count        142.000000    142.000000     142.000000  \n",
       "mean        7269.507042   1753.436620   46619.232394  \n",
       "std         6291.089697   1953.797047   29346.866491  \n",
       "min          332.000000      3.000000   14993.000000  \n",
       "25%         3683.500000    566.750000   30147.250000  \n",
       "50%         5614.500000   1350.000000   37139.000000  \n",
       "75%         8662.500000   2156.000000   51650.500000  \n",
       "max        40827.000000  16523.000000  199891.000000  "
      ]
     },
     "execution_count": 232,
     "metadata": {},
     "output_type": "execute_result"
    }
   ],
   "source": [
    "#Statistical summary for Retail\n",
    "wholesale[wholesale[\"Channel\"]==\"Retail\"].describe() "
   ]
  },
  {
   "cell_type": "code",
   "execution_count": 233,
   "id": "a16c677b",
   "metadata": {},
   "outputs": [
    {
     "data": {
      "text/html": [
       "<div>\n",
       "<style scoped>\n",
       "    .dataframe tbody tr th:only-of-type {\n",
       "        vertical-align: middle;\n",
       "    }\n",
       "\n",
       "    .dataframe tbody tr th {\n",
       "        vertical-align: top;\n",
       "    }\n",
       "\n",
       "    .dataframe thead th {\n",
       "        text-align: right;\n",
       "    }\n",
       "</style>\n",
       "<table border=\"1\" class=\"dataframe\">\n",
       "  <thead>\n",
       "    <tr style=\"text-align: right;\">\n",
       "      <th></th>\n",
       "      <th>Buyer/Spender</th>\n",
       "      <th>Fresh</th>\n",
       "      <th>Milk</th>\n",
       "      <th>Grocery</th>\n",
       "      <th>Frozen</th>\n",
       "      <th>Detergents_Paper</th>\n",
       "      <th>Delicatessen</th>\n",
       "      <th>Total</th>\n",
       "    </tr>\n",
       "  </thead>\n",
       "  <tbody>\n",
       "    <tr>\n",
       "      <th>count</th>\n",
       "      <td>47.000000</td>\n",
       "      <td>47.000000</td>\n",
       "      <td>47.000000</td>\n",
       "      <td>47.000000</td>\n",
       "      <td>47.000000</td>\n",
       "      <td>47.000000</td>\n",
       "      <td>47.000000</td>\n",
       "      <td>47.000000</td>\n",
       "    </tr>\n",
       "    <tr>\n",
       "      <th>mean</th>\n",
       "      <td>317.000000</td>\n",
       "      <td>9887.680851</td>\n",
       "      <td>5088.170213</td>\n",
       "      <td>9218.595745</td>\n",
       "      <td>4045.361702</td>\n",
       "      <td>3687.468085</td>\n",
       "      <td>1159.702128</td>\n",
       "      <td>33086.978723</td>\n",
       "    </tr>\n",
       "    <tr>\n",
       "      <th>std</th>\n",
       "      <td>13.711309</td>\n",
       "      <td>8387.899211</td>\n",
       "      <td>5826.343145</td>\n",
       "      <td>10842.745314</td>\n",
       "      <td>9151.784954</td>\n",
       "      <td>6514.717668</td>\n",
       "      <td>1050.739841</td>\n",
       "      <td>24234.507325</td>\n",
       "    </tr>\n",
       "    <tr>\n",
       "      <th>min</th>\n",
       "      <td>294.000000</td>\n",
       "      <td>3.000000</td>\n",
       "      <td>333.000000</td>\n",
       "      <td>1330.000000</td>\n",
       "      <td>131.000000</td>\n",
       "      <td>15.000000</td>\n",
       "      <td>51.000000</td>\n",
       "      <td>4129.000000</td>\n",
       "    </tr>\n",
       "    <tr>\n",
       "      <th>25%</th>\n",
       "      <td>305.500000</td>\n",
       "      <td>2751.500000</td>\n",
       "      <td>1430.500000</td>\n",
       "      <td>2792.500000</td>\n",
       "      <td>811.500000</td>\n",
       "      <td>282.500000</td>\n",
       "      <td>540.500000</td>\n",
       "      <td>20611.500000</td>\n",
       "    </tr>\n",
       "    <tr>\n",
       "      <th>50%</th>\n",
       "      <td>317.000000</td>\n",
       "      <td>8090.000000</td>\n",
       "      <td>2374.000000</td>\n",
       "      <td>6114.000000</td>\n",
       "      <td>1455.000000</td>\n",
       "      <td>811.000000</td>\n",
       "      <td>898.000000</td>\n",
       "      <td>26953.000000</td>\n",
       "    </tr>\n",
       "    <tr>\n",
       "      <th>75%</th>\n",
       "      <td>328.500000</td>\n",
       "      <td>14925.500000</td>\n",
       "      <td>5772.500000</td>\n",
       "      <td>11758.500000</td>\n",
       "      <td>3272.000000</td>\n",
       "      <td>4324.500000</td>\n",
       "      <td>1538.500000</td>\n",
       "      <td>36158.500000</td>\n",
       "    </tr>\n",
       "    <tr>\n",
       "      <th>max</th>\n",
       "      <td>340.000000</td>\n",
       "      <td>32717.000000</td>\n",
       "      <td>25071.000000</td>\n",
       "      <td>67298.000000</td>\n",
       "      <td>60869.000000</td>\n",
       "      <td>38102.000000</td>\n",
       "      <td>5609.000000</td>\n",
       "      <td>130877.000000</td>\n",
       "    </tr>\n",
       "  </tbody>\n",
       "</table>\n",
       "</div>"
      ],
      "text/plain": [
       "       Buyer/Spender         Fresh          Milk       Grocery        Frozen  \\\n",
       "count      47.000000     47.000000     47.000000     47.000000     47.000000   \n",
       "mean      317.000000   9887.680851   5088.170213   9218.595745   4045.361702   \n",
       "std        13.711309   8387.899211   5826.343145  10842.745314   9151.784954   \n",
       "min       294.000000      3.000000    333.000000   1330.000000    131.000000   \n",
       "25%       305.500000   2751.500000   1430.500000   2792.500000    811.500000   \n",
       "50%       317.000000   8090.000000   2374.000000   6114.000000   1455.000000   \n",
       "75%       328.500000  14925.500000   5772.500000  11758.500000   3272.000000   \n",
       "max       340.000000  32717.000000  25071.000000  67298.000000  60869.000000   \n",
       "\n",
       "       Detergents_Paper  Delicatessen          Total  \n",
       "count         47.000000     47.000000      47.000000  \n",
       "mean        3687.468085   1159.702128   33086.978723  \n",
       "std         6514.717668   1050.739841   24234.507325  \n",
       "min           15.000000     51.000000    4129.000000  \n",
       "25%          282.500000    540.500000   20611.500000  \n",
       "50%          811.000000    898.000000   26953.000000  \n",
       "75%         4324.500000   1538.500000   36158.500000  \n",
       "max        38102.000000   5609.000000  130877.000000  "
      ]
     },
     "execution_count": 233,
     "metadata": {},
     "output_type": "execute_result"
    }
   ],
   "source": [
    "#Statistical summary for Oporto\n",
    "wholesale[wholesale[\"Region\"]==\"Oporto\"].describe() "
   ]
  },
  {
   "cell_type": "code",
   "execution_count": 234,
   "id": "d79e3848",
   "metadata": {},
   "outputs": [
    {
     "data": {
      "text/html": [
       "<div>\n",
       "<style scoped>\n",
       "    .dataframe tbody tr th:only-of-type {\n",
       "        vertical-align: middle;\n",
       "    }\n",
       "\n",
       "    .dataframe tbody tr th {\n",
       "        vertical-align: top;\n",
       "    }\n",
       "\n",
       "    .dataframe thead th {\n",
       "        text-align: right;\n",
       "    }\n",
       "</style>\n",
       "<table border=\"1\" class=\"dataframe\">\n",
       "  <thead>\n",
       "    <tr style=\"text-align: right;\">\n",
       "      <th></th>\n",
       "      <th>Buyer/Spender</th>\n",
       "      <th>Fresh</th>\n",
       "      <th>Milk</th>\n",
       "      <th>Grocery</th>\n",
       "      <th>Frozen</th>\n",
       "      <th>Detergents_Paper</th>\n",
       "      <th>Delicatessen</th>\n",
       "      <th>Total</th>\n",
       "    </tr>\n",
       "  </thead>\n",
       "  <tbody>\n",
       "    <tr>\n",
       "      <th>count</th>\n",
       "      <td>77.000000</td>\n",
       "      <td>77.000000</td>\n",
       "      <td>77.000000</td>\n",
       "      <td>77.000000</td>\n",
       "      <td>77.000000</td>\n",
       "      <td>77.000000</td>\n",
       "      <td>77.000000</td>\n",
       "      <td>77.000000</td>\n",
       "    </tr>\n",
       "    <tr>\n",
       "      <th>mean</th>\n",
       "      <td>235.000000</td>\n",
       "      <td>11101.727273</td>\n",
       "      <td>5486.415584</td>\n",
       "      <td>7403.077922</td>\n",
       "      <td>3000.337662</td>\n",
       "      <td>2651.116883</td>\n",
       "      <td>1354.896104</td>\n",
       "      <td>30997.571429</td>\n",
       "    </tr>\n",
       "    <tr>\n",
       "      <th>std</th>\n",
       "      <td>22.371857</td>\n",
       "      <td>11557.438575</td>\n",
       "      <td>5704.856079</td>\n",
       "      <td>8496.287728</td>\n",
       "      <td>3092.143894</td>\n",
       "      <td>4208.462708</td>\n",
       "      <td>1345.423340</td>\n",
       "      <td>20321.813773</td>\n",
       "    </tr>\n",
       "    <tr>\n",
       "      <th>min</th>\n",
       "      <td>197.000000</td>\n",
       "      <td>18.000000</td>\n",
       "      <td>258.000000</td>\n",
       "      <td>489.000000</td>\n",
       "      <td>61.000000</td>\n",
       "      <td>5.000000</td>\n",
       "      <td>7.000000</td>\n",
       "      <td>4925.000000</td>\n",
       "    </tr>\n",
       "    <tr>\n",
       "      <th>25%</th>\n",
       "      <td>216.000000</td>\n",
       "      <td>2806.000000</td>\n",
       "      <td>1372.000000</td>\n",
       "      <td>2046.000000</td>\n",
       "      <td>950.000000</td>\n",
       "      <td>284.000000</td>\n",
       "      <td>548.000000</td>\n",
       "      <td>17184.000000</td>\n",
       "    </tr>\n",
       "    <tr>\n",
       "      <th>50%</th>\n",
       "      <td>235.000000</td>\n",
       "      <td>7363.000000</td>\n",
       "      <td>3748.000000</td>\n",
       "      <td>3838.000000</td>\n",
       "      <td>1801.000000</td>\n",
       "      <td>737.000000</td>\n",
       "      <td>806.000000</td>\n",
       "      <td>25385.000000</td>\n",
       "    </tr>\n",
       "    <tr>\n",
       "      <th>75%</th>\n",
       "      <td>254.000000</td>\n",
       "      <td>15218.000000</td>\n",
       "      <td>7503.000000</td>\n",
       "      <td>9490.000000</td>\n",
       "      <td>4324.000000</td>\n",
       "      <td>3593.000000</td>\n",
       "      <td>1775.000000</td>\n",
       "      <td>38699.000000</td>\n",
       "    </tr>\n",
       "    <tr>\n",
       "      <th>max</th>\n",
       "      <td>273.000000</td>\n",
       "      <td>56083.000000</td>\n",
       "      <td>28326.000000</td>\n",
       "      <td>39694.000000</td>\n",
       "      <td>18711.000000</td>\n",
       "      <td>19410.000000</td>\n",
       "      <td>6854.000000</td>\n",
       "      <td>107155.000000</td>\n",
       "    </tr>\n",
       "  </tbody>\n",
       "</table>\n",
       "</div>"
      ],
      "text/plain": [
       "       Buyer/Spender         Fresh          Milk       Grocery        Frozen  \\\n",
       "count      77.000000     77.000000     77.000000     77.000000     77.000000   \n",
       "mean      235.000000  11101.727273   5486.415584   7403.077922   3000.337662   \n",
       "std        22.371857  11557.438575   5704.856079   8496.287728   3092.143894   \n",
       "min       197.000000     18.000000    258.000000    489.000000     61.000000   \n",
       "25%       216.000000   2806.000000   1372.000000   2046.000000    950.000000   \n",
       "50%       235.000000   7363.000000   3748.000000   3838.000000   1801.000000   \n",
       "75%       254.000000  15218.000000   7503.000000   9490.000000   4324.000000   \n",
       "max       273.000000  56083.000000  28326.000000  39694.000000  18711.000000   \n",
       "\n",
       "       Detergents_Paper  Delicatessen          Total  \n",
       "count         77.000000     77.000000      77.000000  \n",
       "mean        2651.116883   1354.896104   30997.571429  \n",
       "std         4208.462708   1345.423340   20321.813773  \n",
       "min            5.000000      7.000000    4925.000000  \n",
       "25%          284.000000    548.000000   17184.000000  \n",
       "50%          737.000000    806.000000   25385.000000  \n",
       "75%         3593.000000   1775.000000   38699.000000  \n",
       "max        19410.000000   6854.000000  107155.000000  "
      ]
     },
     "execution_count": 234,
     "metadata": {},
     "output_type": "execute_result"
    }
   ],
   "source": [
    "#Statistical summary for Lisbon\n",
    "wholesale[wholesale[\"Region\"]==\"Lisbon\"].describe() "
   ]
  },
  {
   "cell_type": "code",
   "execution_count": 235,
   "id": "154638d4",
   "metadata": {},
   "outputs": [
    {
     "data": {
      "text/html": [
       "<div>\n",
       "<style scoped>\n",
       "    .dataframe tbody tr th:only-of-type {\n",
       "        vertical-align: middle;\n",
       "    }\n",
       "\n",
       "    .dataframe tbody tr th {\n",
       "        vertical-align: top;\n",
       "    }\n",
       "\n",
       "    .dataframe thead th {\n",
       "        text-align: right;\n",
       "    }\n",
       "</style>\n",
       "<table border=\"1\" class=\"dataframe\">\n",
       "  <thead>\n",
       "    <tr style=\"text-align: right;\">\n",
       "      <th></th>\n",
       "      <th>Buyer/Spender</th>\n",
       "      <th>Fresh</th>\n",
       "      <th>Milk</th>\n",
       "      <th>Grocery</th>\n",
       "      <th>Frozen</th>\n",
       "      <th>Detergents_Paper</th>\n",
       "      <th>Delicatessen</th>\n",
       "      <th>Total</th>\n",
       "    </tr>\n",
       "  </thead>\n",
       "  <tbody>\n",
       "    <tr>\n",
       "      <th>count</th>\n",
       "      <td>316.000000</td>\n",
       "      <td>316.000000</td>\n",
       "      <td>316.000000</td>\n",
       "      <td>316.000000</td>\n",
       "      <td>316.000000</td>\n",
       "      <td>316.000000</td>\n",
       "      <td>316.000000</td>\n",
       "      <td>316.000000</td>\n",
       "    </tr>\n",
       "    <tr>\n",
       "      <th>mean</th>\n",
       "      <td>202.613924</td>\n",
       "      <td>12533.471519</td>\n",
       "      <td>5977.085443</td>\n",
       "      <td>7896.363924</td>\n",
       "      <td>2944.594937</td>\n",
       "      <td>2817.753165</td>\n",
       "      <td>1620.601266</td>\n",
       "      <td>33789.870253</td>\n",
       "    </tr>\n",
       "    <tr>\n",
       "      <th>std</th>\n",
       "      <td>143.615303</td>\n",
       "      <td>13389.213115</td>\n",
       "      <td>7935.463443</td>\n",
       "      <td>9537.287778</td>\n",
       "      <td>4260.126243</td>\n",
       "      <td>4593.051613</td>\n",
       "      <td>3232.581660</td>\n",
       "      <td>27949.337752</td>\n",
       "    </tr>\n",
       "    <tr>\n",
       "      <th>min</th>\n",
       "      <td>1.000000</td>\n",
       "      <td>3.000000</td>\n",
       "      <td>55.000000</td>\n",
       "      <td>3.000000</td>\n",
       "      <td>25.000000</td>\n",
       "      <td>3.000000</td>\n",
       "      <td>3.000000</td>\n",
       "      <td>904.000000</td>\n",
       "    </tr>\n",
       "    <tr>\n",
       "      <th>25%</th>\n",
       "      <td>79.750000</td>\n",
       "      <td>3350.750000</td>\n",
       "      <td>1634.000000</td>\n",
       "      <td>2141.500000</td>\n",
       "      <td>664.750000</td>\n",
       "      <td>251.250000</td>\n",
       "      <td>402.000000</td>\n",
       "      <td>17209.250000</td>\n",
       "    </tr>\n",
       "    <tr>\n",
       "      <th>50%</th>\n",
       "      <td>158.500000</td>\n",
       "      <td>8752.500000</td>\n",
       "      <td>3684.500000</td>\n",
       "      <td>4732.000000</td>\n",
       "      <td>1498.000000</td>\n",
       "      <td>856.000000</td>\n",
       "      <td>994.000000</td>\n",
       "      <td>28029.000000</td>\n",
       "    </tr>\n",
       "    <tr>\n",
       "      <th>75%</th>\n",
       "      <td>361.250000</td>\n",
       "      <td>17406.500000</td>\n",
       "      <td>7198.750000</td>\n",
       "      <td>10559.750000</td>\n",
       "      <td>3354.750000</td>\n",
       "      <td>3875.750000</td>\n",
       "      <td>1832.750000</td>\n",
       "      <td>42492.250000</td>\n",
       "    </tr>\n",
       "    <tr>\n",
       "      <th>max</th>\n",
       "      <td>440.000000</td>\n",
       "      <td>112151.000000</td>\n",
       "      <td>73498.000000</td>\n",
       "      <td>92780.000000</td>\n",
       "      <td>36534.000000</td>\n",
       "      <td>40827.000000</td>\n",
       "      <td>47943.000000</td>\n",
       "      <td>199891.000000</td>\n",
       "    </tr>\n",
       "  </tbody>\n",
       "</table>\n",
       "</div>"
      ],
      "text/plain": [
       "       Buyer/Spender          Fresh          Milk       Grocery        Frozen  \\\n",
       "count     316.000000     316.000000    316.000000    316.000000    316.000000   \n",
       "mean      202.613924   12533.471519   5977.085443   7896.363924   2944.594937   \n",
       "std       143.615303   13389.213115   7935.463443   9537.287778   4260.126243   \n",
       "min         1.000000       3.000000     55.000000      3.000000     25.000000   \n",
       "25%        79.750000    3350.750000   1634.000000   2141.500000    664.750000   \n",
       "50%       158.500000    8752.500000   3684.500000   4732.000000   1498.000000   \n",
       "75%       361.250000   17406.500000   7198.750000  10559.750000   3354.750000   \n",
       "max       440.000000  112151.000000  73498.000000  92780.000000  36534.000000   \n",
       "\n",
       "       Detergents_Paper  Delicatessen          Total  \n",
       "count        316.000000    316.000000     316.000000  \n",
       "mean        2817.753165   1620.601266   33789.870253  \n",
       "std         4593.051613   3232.581660   27949.337752  \n",
       "min            3.000000      3.000000     904.000000  \n",
       "25%          251.250000    402.000000   17209.250000  \n",
       "50%          856.000000    994.000000   28029.000000  \n",
       "75%         3875.750000   1832.750000   42492.250000  \n",
       "max        40827.000000  47943.000000  199891.000000  "
      ]
     },
     "execution_count": 235,
     "metadata": {},
     "output_type": "execute_result"
    }
   ],
   "source": [
    "#Statistical summary for Other regions in Portugal\n",
    "wholesale[wholesale[\"Region\"]==\"Other\"].describe() "
   ]
  },
  {
   "cell_type": "code",
   "execution_count": 236,
   "id": "d892b823",
   "metadata": {},
   "outputs": [
    {
     "data": {
      "image/png": "[encoded data removed]",
      "text/plain": [
       "<Figure size 504x504 with 2 Axes>"
      ]
     },
     "metadata": {
      "needs_background": "light"
     },
     "output_type": "display_data"
    }
   ],
   "source": [
    "#Corelation between different variables\n",
    "plt.figure(figsize=(7,7))\n",
    "sns.heatmap(wholesale.corr(),annot=True,fmt=\".2f\");"
   ]
  },
  {
   "cell_type": "markdown",
   "id": "1ae8a564",
   "metadata": {},
   "source": [
    "# Problem 2 - Education Post 12th Standard"
   ]
  },
  {
   "cell_type": "markdown",
   "id": "a35426ec",
   "metadata": {},
   "source": [
    "## Objective "
   ]
  },
  {
   "cell_type": "markdown",
   "id": "a59a5170",
   "metadata": {},
   "source": [
    "The objective of this analysis is to gain insights into the characteristics of colleges and answer key\n",
    "questions related to the educational landscape. By understanding the data, we aim to inform\n",
    "strategies for improving the quality of education and enhancing the overall college experience. The\n",
    "analysis will provide valuable insights and recommendations for stakeholders in the education\n",
    "sector."
   ]
  },
  {
   "cell_type": "code",
   "execution_count": 237,
   "id": "c29122d5",
   "metadata": {},
   "outputs": [
    {
     "data": {
      "text/html": [
       "<div>\n",
       "<style scoped>\n",
       "    .dataframe tbody tr th:only-of-type {\n",
       "        vertical-align: middle;\n",
       "    }\n",
       "\n",
       "    .dataframe tbody tr th {\n",
       "        vertical-align: top;\n",
       "    }\n",
       "\n",
       "    .dataframe thead th {\n",
       "        text-align: right;\n",
       "    }\n",
       "</style>\n",
       "<table border=\"1\" class=\"dataframe\">\n",
       "  <thead>\n",
       "    <tr style=\"text-align: right;\">\n",
       "      <th></th>\n",
       "      <th>Names</th>\n",
       "      <th>Apps</th>\n",
       "      <th>Accept</th>\n",
       "      <th>Enroll</th>\n",
       "      <th>Top10perc</th>\n",
       "      <th>Top25perc</th>\n",
       "      <th>F.Undergrad</th>\n",
       "      <th>P.Undergrad</th>\n",
       "      <th>Outstate</th>\n",
       "      <th>Room.Board</th>\n",
       "      <th>Books</th>\n",
       "      <th>Personal</th>\n",
       "      <th>PhD</th>\n",
       "      <th>Terminal</th>\n",
       "      <th>S.F.Ratio</th>\n",
       "      <th>perc.alumni</th>\n",
       "      <th>Expend</th>\n",
       "      <th>Grad.Rate</th>\n",
       "    </tr>\n",
       "  </thead>\n",
       "  <tbody>\n",
       "    <tr>\n",
       "      <th>0</th>\n",
       "      <td>Abilene Christian University</td>\n",
       "      <td>1660</td>\n",
       "      <td>1232</td>\n",
       "      <td>721</td>\n",
       "      <td>23</td>\n",
       "      <td>52</td>\n",
       "      <td>2885</td>\n",
       "      <td>537</td>\n",
       "      <td>7440</td>\n",
       "      <td>3300</td>\n",
       "      <td>450</td>\n",
       "      <td>2200</td>\n",
       "      <td>70</td>\n",
       "      <td>78</td>\n",
       "      <td>18.1</td>\n",
       "      <td>12</td>\n",
       "      <td>7041</td>\n",
       "      <td>60</td>\n",
       "    </tr>\n",
       "    <tr>\n",
       "      <th>1</th>\n",
       "      <td>Adelphi University</td>\n",
       "      <td>2186</td>\n",
       "      <td>1924</td>\n",
       "      <td>512</td>\n",
       "      <td>16</td>\n",
       "      <td>29</td>\n",
       "      <td>2683</td>\n",
       "      <td>1227</td>\n",
       "      <td>12280</td>\n",
       "      <td>6450</td>\n",
       "      <td>750</td>\n",
       "      <td>1500</td>\n",
       "      <td>29</td>\n",
       "      <td>30</td>\n",
       "      <td>12.2</td>\n",
       "      <td>16</td>\n",
       "      <td>10527</td>\n",
       "      <td>56</td>\n",
       "    </tr>\n",
       "    <tr>\n",
       "      <th>2</th>\n",
       "      <td>Adrian College</td>\n",
       "      <td>1428</td>\n",
       "      <td>1097</td>\n",
       "      <td>336</td>\n",
       "      <td>22</td>\n",
       "      <td>50</td>\n",
       "      <td>1036</td>\n",
       "      <td>99</td>\n",
       "      <td>11250</td>\n",
       "      <td>3750</td>\n",
       "      <td>400</td>\n",
       "      <td>1165</td>\n",
       "      <td>53</td>\n",
       "      <td>66</td>\n",
       "      <td>12.9</td>\n",
       "      <td>30</td>\n",
       "      <td>8735</td>\n",
       "      <td>54</td>\n",
       "    </tr>\n",
       "    <tr>\n",
       "      <th>3</th>\n",
       "      <td>Agnes Scott College</td>\n",
       "      <td>417</td>\n",
       "      <td>349</td>\n",
       "      <td>137</td>\n",
       "      <td>60</td>\n",
       "      <td>89</td>\n",
       "      <td>510</td>\n",
       "      <td>63</td>\n",
       "      <td>12960</td>\n",
       "      <td>5450</td>\n",
       "      <td>450</td>\n",
       "      <td>875</td>\n",
       "      <td>92</td>\n",
       "      <td>97</td>\n",
       "      <td>7.7</td>\n",
       "      <td>37</td>\n",
       "      <td>19016</td>\n",
       "      <td>59</td>\n",
       "    </tr>\n",
       "    <tr>\n",
       "      <th>4</th>\n",
       "      <td>Alaska Pacific University</td>\n",
       "      <td>193</td>\n",
       "      <td>146</td>\n",
       "      <td>55</td>\n",
       "      <td>16</td>\n",
       "      <td>44</td>\n",
       "      <td>249</td>\n",
       "      <td>869</td>\n",
       "      <td>7560</td>\n",
       "      <td>4120</td>\n",
       "      <td>800</td>\n",
       "      <td>1500</td>\n",
       "      <td>76</td>\n",
       "      <td>72</td>\n",
       "      <td>11.9</td>\n",
       "      <td>2</td>\n",
       "      <td>10922</td>\n",
       "      <td>15</td>\n",
       "    </tr>\n",
       "  </tbody>\n",
       "</table>\n",
       "</div>"
      ],
      "text/plain": [
       "                          Names  Apps  Accept  Enroll  Top10perc  Top25perc  \\\n",
       "0  Abilene Christian University  1660    1232     721         23         52   \n",
       "1            Adelphi University  2186    1924     512         16         29   \n",
       "2                Adrian College  1428    1097     336         22         50   \n",
       "3           Agnes Scott College   417     349     137         60         89   \n",
       "4     Alaska Pacific University   193     146      55         16         44   \n",
       "\n",
       "   F.Undergrad  P.Undergrad  Outstate  Room.Board  Books  Personal  PhD  \\\n",
       "0         2885          537      7440        3300    450      2200   70   \n",
       "1         2683         1227     12280        6450    750      1500   29   \n",
       "2         1036           99     11250        3750    400      1165   53   \n",
       "3          510           63     12960        5450    450       875   92   \n",
       "4          249          869      7560        4120    800      1500   76   \n",
       "\n",
       "   Terminal  S.F.Ratio  perc.alumni  Expend  Grad.Rate  \n",
       "0        78       18.1           12    7041         60  \n",
       "1        30       12.2           16   10527         56  \n",
       "2        66       12.9           30    8735         54  \n",
       "3        97        7.7           37   19016         59  \n",
       "4        72       11.9            2   10922         15  "
      ]
     },
     "execution_count": 237,
     "metadata": {},
     "output_type": "execute_result"
    }
   ],
   "source": [
    "#Load the Data\n",
    "edu=pd.read_csv(r'D:\\dsba\\statistical methods for decision making\\education post 12th standard.csv')\n",
    "edu.head()"
   ]
  },
  {
   "cell_type": "code",
   "execution_count": 238,
   "id": "4326e6ec",
   "metadata": {},
   "outputs": [
    {
     "data": {
      "text/plain": [
       "(777, 18)"
      ]
     },
     "execution_count": 238,
     "metadata": {},
     "output_type": "execute_result"
    }
   ],
   "source": [
    "#Structure of the data\n",
    "edu.shape"
   ]
  },
  {
   "cell_type": "code",
   "execution_count": 239,
   "id": "7dc3c132",
   "metadata": {},
   "outputs": [
    {
     "name": "stdout",
     "output_type": "stream",
     "text": [
      "<class 'pandas.core.frame.DataFrame'>\n",
      "RangeIndex: 777 entries, 0 to 776\n",
      "Data columns (total 18 columns):\n",
      " #   Column       Non-Null Count  Dtype  \n",
      "---  ------       --------------  -----  \n",
      " 0   Names        777 non-null    object \n",
      " 1   Apps         777 non-null    int64  \n",
      " 2   Accept       777 non-null    int64  \n",
      " 3   Enroll       777 non-null    int64  \n",
      " 4   Top10perc    777 non-null    int64  \n",
      " 5   Top25perc    777 non-null    int64  \n",
      " 6   F.Undergrad  777 non-null    int64  \n",
      " 7   P.Undergrad  777 non-null    int64  \n",
      " 8   Outstate     777 non-null    int64  \n",
      " 9   Room.Board   777 non-null    int64  \n",
      " 10  Books        777 non-null    int64  \n",
      " 11  Personal     777 non-null    int64  \n",
      " 12  PhD          777 non-null    int64  \n",
      " 13  Terminal     777 non-null    int64  \n",
      " 14  S.F.Ratio    777 non-null    float64\n",
      " 15  perc.alumni  777 non-null    int64  \n",
      " 16  Expend       777 non-null    int64  \n",
      " 17  Grad.Rate    777 non-null    int64  \n",
      "dtypes: float64(1), int64(16), object(1)\n",
      "memory usage: 109.4+ KB\n"
     ]
    }
   ],
   "source": [
    "edu.info()"
   ]
  },
  {
   "cell_type": "code",
   "execution_count": 240,
   "id": "2f2f4c12",
   "metadata": {},
   "outputs": [
    {
     "name": "stdout",
     "output_type": "stream",
     "text": [
      "Number of duplicate rows = 0\n"
     ]
    },
    {
     "data": {
      "text/html": [
       "<div>\n",
       "<style scoped>\n",
       "    .dataframe tbody tr th:only-of-type {\n",
       "        vertical-align: middle;\n",
       "    }\n",
       "\n",
       "    .dataframe tbody tr th {\n",
       "        vertical-align: top;\n",
       "    }\n",
       "\n",
       "    .dataframe thead th {\n",
       "        text-align: right;\n",
       "    }\n",
       "</style>\n",
       "<table border=\"1\" class=\"dataframe\">\n",
       "  <thead>\n",
       "    <tr style=\"text-align: right;\">\n",
       "      <th></th>\n",
       "      <th>Names</th>\n",
       "      <th>Apps</th>\n",
       "      <th>Accept</th>\n",
       "      <th>Enroll</th>\n",
       "      <th>Top10perc</th>\n",
       "      <th>Top25perc</th>\n",
       "      <th>F.Undergrad</th>\n",
       "      <th>P.Undergrad</th>\n",
       "      <th>Outstate</th>\n",
       "      <th>Room.Board</th>\n",
       "      <th>Books</th>\n",
       "      <th>Personal</th>\n",
       "      <th>PhD</th>\n",
       "      <th>Terminal</th>\n",
       "      <th>S.F.Ratio</th>\n",
       "      <th>perc.alumni</th>\n",
       "      <th>Expend</th>\n",
       "      <th>Grad.Rate</th>\n",
       "    </tr>\n",
       "  </thead>\n",
       "  <tbody>\n",
       "  </tbody>\n",
       "</table>\n",
       "</div>"
      ],
      "text/plain": [
       "Empty DataFrame\n",
       "Columns: [Names, Apps, Accept, Enroll, Top10perc, Top25perc, F.Undergrad, P.Undergrad, Outstate, Room.Board, Books, Personal, PhD, Terminal, S.F.Ratio, perc.alumni, Expend, Grad.Rate]\n",
       "Index: []"
      ]
     },
     "execution_count": 240,
     "metadata": {},
     "output_type": "execute_result"
    }
   ],
   "source": [
    "# Check for duplicate data\n",
    "duplicate = edu.duplicated()\n",
    "print('Number of duplicate rows = %d' % (duplicate.sum()))\n",
    "edu[duplicate]"
   ]
  },
  {
   "cell_type": "code",
   "execution_count": 241,
   "id": "6abf37db",
   "metadata": {},
   "outputs": [
    {
     "name": "stdout",
     "output_type": "stream",
     "text": [
      "Names 0\n",
      "Apps 0\n",
      "Accept 0\n",
      "Enroll 0\n",
      "Top10perc 0\n",
      "Top25perc 0\n",
      "F.Undergrad 0\n",
      "P.Undergrad 0\n",
      "Outstate 0\n",
      "Room.Board 0\n",
      "Books 0\n",
      "Personal 0\n",
      "PhD 0\n",
      "Terminal 0\n",
      "S.F.Ratio 0\n",
      "perc.alumni 0\n",
      "Expend 0\n",
      "Grad.Rate 0\n"
     ]
    }
   ],
   "source": [
    "#Check for columns with null values\n",
    "for i in edu.columns:\n",
    "    print(i,edu[i].isnull().sum())"
   ]
  },
  {
   "cell_type": "code",
   "execution_count": 242,
   "id": "9a879597",
   "metadata": {},
   "outputs": [
    {
     "data": {
      "text/html": [
       "<div>\n",
       "<style scoped>\n",
       "    .dataframe tbody tr th:only-of-type {\n",
       "        vertical-align: middle;\n",
       "    }\n",
       "\n",
       "    .dataframe tbody tr th {\n",
       "        vertical-align: top;\n",
       "    }\n",
       "\n",
       "    .dataframe thead th {\n",
       "        text-align: right;\n",
       "    }\n",
       "</style>\n",
       "<table border=\"1\" class=\"dataframe\">\n",
       "  <thead>\n",
       "    <tr style=\"text-align: right;\">\n",
       "      <th></th>\n",
       "      <th>count</th>\n",
       "      <th>mean</th>\n",
       "      <th>std</th>\n",
       "      <th>min</th>\n",
       "      <th>25%</th>\n",
       "      <th>50%</th>\n",
       "      <th>75%</th>\n",
       "      <th>max</th>\n",
       "    </tr>\n",
       "  </thead>\n",
       "  <tbody>\n",
       "    <tr>\n",
       "      <th>Apps</th>\n",
       "      <td>777.0</td>\n",
       "      <td>3001.638353</td>\n",
       "      <td>3870.201484</td>\n",
       "      <td>81.0</td>\n",
       "      <td>776.0</td>\n",
       "      <td>1558.0</td>\n",
       "      <td>3624.0</td>\n",
       "      <td>48094.0</td>\n",
       "    </tr>\n",
       "    <tr>\n",
       "      <th>Accept</th>\n",
       "      <td>777.0</td>\n",
       "      <td>2018.804376</td>\n",
       "      <td>2451.113971</td>\n",
       "      <td>72.0</td>\n",
       "      <td>604.0</td>\n",
       "      <td>1110.0</td>\n",
       "      <td>2424.0</td>\n",
       "      <td>26330.0</td>\n",
       "    </tr>\n",
       "    <tr>\n",
       "      <th>Enroll</th>\n",
       "      <td>777.0</td>\n",
       "      <td>779.972973</td>\n",
       "      <td>929.176190</td>\n",
       "      <td>35.0</td>\n",
       "      <td>242.0</td>\n",
       "      <td>434.0</td>\n",
       "      <td>902.0</td>\n",
       "      <td>6392.0</td>\n",
       "    </tr>\n",
       "    <tr>\n",
       "      <th>Top10perc</th>\n",
       "      <td>777.0</td>\n",
       "      <td>27.558559</td>\n",
       "      <td>17.640364</td>\n",
       "      <td>1.0</td>\n",
       "      <td>15.0</td>\n",
       "      <td>23.0</td>\n",
       "      <td>35.0</td>\n",
       "      <td>96.0</td>\n",
       "    </tr>\n",
       "    <tr>\n",
       "      <th>Top25perc</th>\n",
       "      <td>777.0</td>\n",
       "      <td>55.796654</td>\n",
       "      <td>19.804778</td>\n",
       "      <td>9.0</td>\n",
       "      <td>41.0</td>\n",
       "      <td>54.0</td>\n",
       "      <td>69.0</td>\n",
       "      <td>100.0</td>\n",
       "    </tr>\n",
       "    <tr>\n",
       "      <th>...</th>\n",
       "      <td>...</td>\n",
       "      <td>...</td>\n",
       "      <td>...</td>\n",
       "      <td>...</td>\n",
       "      <td>...</td>\n",
       "      <td>...</td>\n",
       "      <td>...</td>\n",
       "      <td>...</td>\n",
       "    </tr>\n",
       "    <tr>\n",
       "      <th>Terminal</th>\n",
       "      <td>777.0</td>\n",
       "      <td>79.702703</td>\n",
       "      <td>14.722359</td>\n",
       "      <td>24.0</td>\n",
       "      <td>71.0</td>\n",
       "      <td>82.0</td>\n",
       "      <td>92.0</td>\n",
       "      <td>100.0</td>\n",
       "    </tr>\n",
       "    <tr>\n",
       "      <th>S.F.Ratio</th>\n",
       "      <td>777.0</td>\n",
       "      <td>14.089704</td>\n",
       "      <td>3.958349</td>\n",
       "      <td>2.5</td>\n",
       "      <td>11.5</td>\n",
       "      <td>13.6</td>\n",
       "      <td>16.5</td>\n",
       "      <td>39.8</td>\n",
       "    </tr>\n",
       "    <tr>\n",
       "      <th>perc.alumni</th>\n",
       "      <td>777.0</td>\n",
       "      <td>22.743887</td>\n",
       "      <td>12.391801</td>\n",
       "      <td>0.0</td>\n",
       "      <td>13.0</td>\n",
       "      <td>21.0</td>\n",
       "      <td>31.0</td>\n",
       "      <td>64.0</td>\n",
       "    </tr>\n",
       "    <tr>\n",
       "      <th>Expend</th>\n",
       "      <td>777.0</td>\n",
       "      <td>9660.171171</td>\n",
       "      <td>5221.768440</td>\n",
       "      <td>3186.0</td>\n",
       "      <td>6751.0</td>\n",
       "      <td>8377.0</td>\n",
       "      <td>10830.0</td>\n",
       "      <td>56233.0</td>\n",
       "    </tr>\n",
       "    <tr>\n",
       "      <th>Grad.Rate</th>\n",
       "      <td>777.0</td>\n",
       "      <td>65.463320</td>\n",
       "      <td>17.177710</td>\n",
       "      <td>10.0</td>\n",
       "      <td>53.0</td>\n",
       "      <td>65.0</td>\n",
       "      <td>78.0</td>\n",
       "      <td>118.0</td>\n",
       "    </tr>\n",
       "  </tbody>\n",
       "</table>\n",
       "<p>17 rows × 8 columns</p>\n",
       "</div>"
      ],
      "text/plain": [
       "             count         mean          std     min     25%     50%      75%  \\\n",
       "Apps         777.0  3001.638353  3870.201484    81.0   776.0  1558.0   3624.0   \n",
       "Accept       777.0  2018.804376  2451.113971    72.0   604.0  1110.0   2424.0   \n",
       "Enroll       777.0   779.972973   929.176190    35.0   242.0   434.0    902.0   \n",
       "Top10perc    777.0    27.558559    17.640364     1.0    15.0    23.0     35.0   \n",
       "Top25perc    777.0    55.796654    19.804778     9.0    41.0    54.0     69.0   \n",
       "...            ...          ...          ...     ...     ...     ...      ...   \n",
       "Terminal     777.0    79.702703    14.722359    24.0    71.0    82.0     92.0   \n",
       "S.F.Ratio    777.0    14.089704     3.958349     2.5    11.5    13.6     16.5   \n",
       "perc.alumni  777.0    22.743887    12.391801     0.0    13.0    21.0     31.0   \n",
       "Expend       777.0  9660.171171  5221.768440  3186.0  6751.0  8377.0  10830.0   \n",
       "Grad.Rate    777.0    65.463320    17.177710    10.0    53.0    65.0     78.0   \n",
       "\n",
       "                 max  \n",
       "Apps         48094.0  \n",
       "Accept       26330.0  \n",
       "Enroll        6392.0  \n",
       "Top10perc       96.0  \n",
       "Top25perc      100.0  \n",
       "...              ...  \n",
       "Terminal       100.0  \n",
       "S.F.Ratio       39.8  \n",
       "perc.alumni     64.0  \n",
       "Expend       56233.0  \n",
       "Grad.Rate      118.0  \n",
       "\n",
       "[17 rows x 8 columns]"
      ]
     },
     "execution_count": 242,
     "metadata": {},
     "output_type": "execute_result"
    }
   ],
   "source": [
    "#Statistical summary\n",
    "p = edu.describe().transpose()\n",
    "p"
   ]
  },
  {
   "cell_type": "code",
   "execution_count": 290,
   "id": "c5f3e38e",
   "metadata": {},
   "outputs": [
    {
     "name": "stdout",
     "output_type": "stream",
     "text": [
      "             count     mean     std     min     25%     50%      75%      max\n",
      "Apps         777.0   3002.0  3870.0    81.0   776.0  1558.0   3624.0  48094.0\n",
      "Accept       777.0   2019.0  2451.0    72.0   604.0  1110.0   2424.0  26330.0\n",
      "Enroll       777.0    780.0   929.0    35.0   242.0   434.0    902.0   6392.0\n",
      "Top10perc    777.0     28.0    18.0     1.0    15.0    23.0     35.0     96.0\n",
      "Top25perc    777.0     56.0    20.0     9.0    41.0    54.0     69.0    100.0\n",
      "F.Undergrad  777.0   3700.0  4850.0   139.0   992.0  1707.0   4005.0  31643.0\n",
      "P.Undergrad  777.0    855.0  1522.0     1.0    95.0   353.0    967.0  21836.0\n",
      "Outstate     777.0  10441.0  4023.0  2340.0  7320.0  9990.0  12925.0  21700.0\n",
      "Room.Board   777.0   4358.0  1097.0  1780.0  3597.0  4200.0   5050.0   8124.0\n",
      "Books        777.0    549.0   165.0    96.0   470.0   500.0    600.0   2340.0\n",
      "Personal     777.0   1341.0   677.0   250.0   850.0  1200.0   1700.0   6800.0\n",
      "PhD          777.0     73.0    16.0     8.0    62.0    75.0     85.0    103.0\n",
      "Terminal     777.0     80.0    15.0    24.0    71.0    82.0     92.0    100.0\n",
      "S.F.Ratio    777.0     14.0     4.0     2.5    11.5    13.6     16.5     39.8\n",
      "perc.alumni  777.0     23.0    12.0     0.0    13.0    21.0     31.0     64.0\n",
      "Expend       777.0   9660.0  5222.0  3186.0  6751.0  8377.0  10830.0  56233.0\n",
      "Grad.Rate    777.0     65.0    17.0    10.0    53.0    65.0     78.0    118.0\n"
     ]
    }
   ],
   "source": [
    "p['mean'] = p['mean'].round(decimals = 0)\n",
    "p['std'] = p['std'].round(decimals = 0)\n",
    "with pd.option_context('display.max_rows', None,):\n",
    "   print(p)"
   ]
  },
  {
   "cell_type": "markdown",
   "id": "f7d6fdbe",
   "metadata": {},
   "source": [
    "## Exploratory Data Analysis "
   ]
  },
  {
   "cell_type": "markdown",
   "id": "325ed2dd",
   "metadata": {},
   "source": [
    "Univariate analysis\n",
    "\n",
    "- Explore all the variables (categorical and numerical) in the data\n",
    "- Check for and treat (if needed) outliers"
   ]
  },
  {
   "cell_type": "code",
   "execution_count": 244,
   "id": "49a837e6",
   "metadata": {},
   "outputs": [
    {
     "data": {
      "image/png": "[encoded data removed]",
      "text/plain": [
       "<Figure size 432x288 with 1 Axes>"
      ]
     },
     "metadata": {
      "needs_background": "light"
     },
     "output_type": "display_data"
    }
   ],
   "source": [
    "#Distribution of Applications\n",
    "sns.histplot(data=edu, x='Apps', kde=True);"
   ]
  },
  {
   "cell_type": "code",
   "execution_count": 245,
   "id": "f30ef4e0",
   "metadata": {},
   "outputs": [
    {
     "data": {
      "image/png": "[encoded data removed]",
      "text/plain": [
       "<Figure size 432x288 with 1 Axes>"
      ]
     },
     "metadata": {
      "needs_background": "light"
     },
     "output_type": "display_data"
    }
   ],
   "source": [
    "#Distribution of accepted applications\n",
    "sns.histplot(data=edu, x='Accept', kde=True);"
   ]
  },
  {
   "cell_type": "code",
   "execution_count": 246,
   "id": "fbf68957",
   "metadata": {},
   "outputs": [
    {
     "data": {
      "text/plain": [
       "array([[<AxesSubplot:title={'center':'Apps'}>,\n",
       "        <AxesSubplot:title={'center':'Accept'}>,\n",
       "        <AxesSubplot:title={'center':'Enroll'}>,\n",
       "        <AxesSubplot:title={'center':'Top10perc'}>],\n",
       "       [<AxesSubplot:title={'center':'Top25perc'}>,\n",
       "        <AxesSubplot:title={'center':'F.Undergrad'}>,\n",
       "        <AxesSubplot:title={'center':'P.Undergrad'}>,\n",
       "        <AxesSubplot:title={'center':'Outstate'}>],\n",
       "       [<AxesSubplot:title={'center':'Room.Board'}>,\n",
       "        <AxesSubplot:title={'center':'Books'}>,\n",
       "        <AxesSubplot:title={'center':'Personal'}>,\n",
       "        <AxesSubplot:title={'center':'PhD'}>],\n",
       "       [<AxesSubplot:title={'center':'Terminal'}>,\n",
       "        <AxesSubplot:title={'center':'S.F.Ratio'}>,\n",
       "        <AxesSubplot:title={'center':'perc.alumni'}>,\n",
       "        <AxesSubplot:title={'center':'Expend'}>],\n",
       "       [<AxesSubplot:title={'center':'Grad.Rate'}>, <AxesSubplot:>,\n",
       "        <AxesSubplot:>, <AxesSubplot:>]], dtype=object)"
      ]
     },
     "execution_count": 246,
     "metadata": {},
     "output_type": "execute_result"
    },
    {
     "data": {
      "image/png": "[encoded data removed]",
      "text/plain": [
       "<Figure size 1440x1440 with 20 Axes>"
      ]
     },
     "metadata": {
      "needs_background": "light"
     },
     "output_type": "display_data"
    }
   ],
   "source": [
    "columns = ['Apps', 'Accept', 'Enroll', 'Top10perc', 'Top25perc', 'F.Undergrad', 'P.Undergrad', 'Outstate', 'Room.Board', 'Books','Personal', 'PhD', 'Terminal', 'S.F.Ratio', 'perc.alumni', 'Expend', 'Grad.Rate']\n",
    "edu[columns].hist(figsize=(20,20))"
   ]
  },
  {
   "cell_type": "code",
   "execution_count": 254,
   "id": "34788afb",
   "metadata": {},
   "outputs": [
    {
     "data": {
      "text/plain": [
       "<AxesSubplot:xlabel='Apps'>"
      ]
     },
     "execution_count": 254,
     "metadata": {},
     "output_type": "execute_result"
    },
    {
     "data": {
      "image/png": "[encoded data removed]",
      "text/plain": [
       "<Figure size 432x288 with 1 Axes>"
      ]
     },
     "metadata": {
      "needs_background": "light"
     },
     "output_type": "display_data"
    }
   ],
   "source": [
    "sns.boxplot(data=edu, x='Apps')"
   ]
  },
  {
   "cell_type": "code",
   "execution_count": 255,
   "id": "b36f926f",
   "metadata": {},
   "outputs": [
    {
     "data": {
      "text/plain": [
       "<AxesSubplot:xlabel='Accept'>"
      ]
     },
     "execution_count": 255,
     "metadata": {},
     "output_type": "execute_result"
    },
    {
     "data": {
      "image/png": "[encoded data removed]",
      "text/plain": [
       "<Figure size 432x288 with 1 Axes>"
      ]
     },
     "metadata": {
      "needs_background": "light"
     },
     "output_type": "display_data"
    }
   ],
   "source": [
    "sns.boxplot(data=edu, x='Accept')"
   ]
  },
  {
   "cell_type": "code",
   "execution_count": 256,
   "id": "f4e6777e",
   "metadata": {},
   "outputs": [
    {
     "data": {
      "text/plain": [
       "<AxesSubplot:xlabel='Enroll'>"
      ]
     },
     "execution_count": 256,
     "metadata": {},
     "output_type": "execute_result"
    },
    {
     "data": {
      "image/png": "[encoded data removed]",
      "text/plain": [
       "<Figure size 432x288 with 1 Axes>"
      ]
     },
     "metadata": {
      "needs_background": "light"
     },
     "output_type": "display_data"
    }
   ],
   "source": [
    "sns.boxplot(data=edu, x='Enroll')"
   ]
  },
  {
   "cell_type": "code",
   "execution_count": 257,
   "id": "ba5a4164",
   "metadata": {},
   "outputs": [
    {
     "data": {
      "text/plain": [
       "<AxesSubplot:xlabel='Top10perc'>"
      ]
     },
     "execution_count": 257,
     "metadata": {},
     "output_type": "execute_result"
    },
    {
     "data": {
      "image/png": "[encoded data removed]",
      "text/plain": [
       "<Figure size 432x288 with 1 Axes>"
      ]
     },
     "metadata": {
      "needs_background": "light"
     },
     "output_type": "display_data"
    }
   ],
   "source": [
    "sns.boxplot(data=edu, x='Top10perc')"
   ]
  },
  {
   "cell_type": "code",
   "execution_count": 258,
   "id": "d6c83a5d",
   "metadata": {},
   "outputs": [
    {
     "data": {
      "text/plain": [
       "<AxesSubplot:xlabel='Top25perc'>"
      ]
     },
     "execution_count": 258,
     "metadata": {},
     "output_type": "execute_result"
    },
    {
     "data": {
      "image/png": "[encoded data removed]",
      "text/plain": [
       "<Figure size 432x288 with 1 Axes>"
      ]
     },
     "metadata": {
      "needs_background": "light"
     },
     "output_type": "display_data"
    }
   ],
   "source": [
    "sns.boxplot(data=edu, x='Top25perc')"
   ]
  },
  {
   "cell_type": "code",
   "execution_count": 259,
   "id": "893692e8",
   "metadata": {},
   "outputs": [
    {
     "data": {
      "text/plain": [
       "<AxesSubplot:xlabel='F.Undergrad'>"
      ]
     },
     "execution_count": 259,
     "metadata": {},
     "output_type": "execute_result"
    },
    {
     "data": {
      "image/png": "[encoded data removed]",
      "text/plain": [
       "<Figure size 432x288 with 1 Axes>"
      ]
     },
     "metadata": {
      "needs_background": "light"
     },
     "output_type": "display_data"
    }
   ],
   "source": [
    "sns.boxplot(data=edu, x='F.Undergrad')"
   ]
  },
  {
   "cell_type": "code",
   "execution_count": 260,
   "id": "8c904c32",
   "metadata": {},
   "outputs": [
    {
     "data": {
      "text/plain": [
       "<AxesSubplot:xlabel='P.Undergrad'>"
      ]
     },
     "execution_count": 260,
     "metadata": {},
     "output_type": "execute_result"
    },
    {
     "data": {
      "image/png": "[encoded data removed]",
      "text/plain": [
       "<Figure size 432x288 with 1 Axes>"
      ]
     },
     "metadata": {
      "needs_background": "light"
     },
     "output_type": "display_data"
    }
   ],
   "source": [
    "sns.boxplot(data=edu, x='P.Undergrad')"
   ]
  },
  {
   "cell_type": "code",
   "execution_count": 261,
   "id": "402b330b",
   "metadata": {},
   "outputs": [
    {
     "data": {
      "text/plain": [
       "<AxesSubplot:xlabel='Outstate'>"
      ]
     },
     "execution_count": 261,
     "metadata": {},
     "output_type": "execute_result"
    },
    {
     "data": {
      "image/png": "[encoded data removed]",
      "text/plain": [
       "<Figure size 432x288 with 1 Axes>"
      ]
     },
     "metadata": {
      "needs_background": "light"
     },
     "output_type": "display_data"
    }
   ],
   "source": [
    "sns.boxplot(data=edu, x='Outstate')"
   ]
  },
  {
   "cell_type": "code",
   "execution_count": 262,
   "id": "f3780649",
   "metadata": {},
   "outputs": [
    {
     "data": {
      "text/plain": [
       "<AxesSubplot:xlabel='Room.Board'>"
      ]
     },
     "execution_count": 262,
     "metadata": {},
     "output_type": "execute_result"
    },
    {
     "data": {
      "image/png": "[encoded data removed]",
      "text/plain": [
       "<Figure size 432x288 with 1 Axes>"
      ]
     },
     "metadata": {
      "needs_background": "light"
     },
     "output_type": "display_data"
    }
   ],
   "source": [
    "sns.boxplot(data=edu, x='Room.Board')"
   ]
  },
  {
   "cell_type": "code",
   "execution_count": 263,
   "id": "059bae10",
   "metadata": {},
   "outputs": [
    {
     "data": {
      "text/plain": [
       "<AxesSubplot:xlabel='Books'>"
      ]
     },
     "execution_count": 263,
     "metadata": {},
     "output_type": "execute_result"
    },
    {
     "data": {
      "image/png": "[encoded data removed]",
      "text/plain": [
       "<Figure size 432x288 with 1 Axes>"
      ]
     },
     "metadata": {
      "needs_background": "light"
     },
     "output_type": "display_data"
    }
   ],
   "source": [
    "sns.boxplot(data=edu, x='Books')"
   ]
  },
  {
   "cell_type": "code",
   "execution_count": 264,
   "id": "72a0a863",
   "metadata": {},
   "outputs": [
    {
     "data": {
      "text/plain": [
       "<AxesSubplot:xlabel='Personal'>"
      ]
     },
     "execution_count": 264,
     "metadata": {},
     "output_type": "execute_result"
    },
    {
     "data": {
      "image/png": "[encoded data removed]",
      "text/plain": [
       "<Figure size 432x288 with 1 Axes>"
      ]
     },
     "metadata": {
      "needs_background": "light"
     },
     "output_type": "display_data"
    }
   ],
   "source": [
    "sns.boxplot(data=edu, x='Personal')"
   ]
  },
  {
   "cell_type": "code",
   "execution_count": 265,
   "id": "4f9a39c2",
   "metadata": {},
   "outputs": [
    {
     "data": {
      "text/plain": [
       "<AxesSubplot:xlabel='PhD'>"
      ]
     },
     "execution_count": 265,
     "metadata": {},
     "output_type": "execute_result"
    },
    {
     "data": {
      "image/png": "[encoded data removed]",
      "text/plain": [
       "<Figure size 432x288 with 1 Axes>"
      ]
     },
     "metadata": {
      "needs_background": "light"
     },
     "output_type": "display_data"
    }
   ],
   "source": [
    "sns.boxplot(data=edu, x='PhD')"
   ]
  },
  {
   "cell_type": "code",
   "execution_count": 266,
   "id": "14d21afc",
   "metadata": {},
   "outputs": [
    {
     "data": {
      "text/plain": [
       "<AxesSubplot:xlabel='Terminal'>"
      ]
     },
     "execution_count": 266,
     "metadata": {},
     "output_type": "execute_result"
    },
    {
     "data": {
      "image/png": "[encoded data removed]",
      "text/plain": [
       "<Figure size 432x288 with 1 Axes>"
      ]
     },
     "metadata": {
      "needs_background": "light"
     },
     "output_type": "display_data"
    }
   ],
   "source": [
    "sns.boxplot(data=edu, x='Terminal')"
   ]
  },
  {
   "cell_type": "code",
   "execution_count": 267,
   "id": "852f5e79",
   "metadata": {},
   "outputs": [
    {
     "data": {
      "text/plain": [
       "<AxesSubplot:xlabel='S.F.Ratio'>"
      ]
     },
     "execution_count": 267,
     "metadata": {},
     "output_type": "execute_result"
    },
    {
     "data": {
      "image/png": "[encoded data removed]",
      "text/plain": [
       "<Figure size 432x288 with 1 Axes>"
      ]
     },
     "metadata": {
      "needs_background": "light"
     },
     "output_type": "display_data"
    }
   ],
   "source": [
    "sns.boxplot(data=edu, x='S.F.Ratio')"
   ]
  },
  {
   "cell_type": "code",
   "execution_count": 268,
   "id": "5b55dbfb",
   "metadata": {},
   "outputs": [
    {
     "data": {
      "text/plain": [
       "<AxesSubplot:xlabel='perc.alumni'>"
      ]
     },
     "execution_count": 268,
     "metadata": {},
     "output_type": "execute_result"
    },
    {
     "data": {
      "image/png": "[encoded data removed]",
      "text/plain": [
       "<Figure size 432x288 with 1 Axes>"
      ]
     },
     "metadata": {
      "needs_background": "light"
     },
     "output_type": "display_data"
    }
   ],
   "source": [
    "sns.boxplot(data=edu, x='perc.alumni')"
   ]
  },
  {
   "cell_type": "code",
   "execution_count": 269,
   "id": "bbed21dc",
   "metadata": {},
   "outputs": [
    {
     "data": {
      "text/plain": [
       "<AxesSubplot:xlabel='Expend'>"
      ]
     },
     "execution_count": 269,
     "metadata": {},
     "output_type": "execute_result"
    },
    {
     "data": {
      "image/png": "[encoded data removed]",
      "text/plain": [
       "<Figure size 432x288 with 1 Axes>"
      ]
     },
     "metadata": {
      "needs_background": "light"
     },
     "output_type": "display_data"
    }
   ],
   "source": [
    "sns.boxplot(data=edu, x='Expend')"
   ]
  },
  {
   "cell_type": "code",
   "execution_count": 270,
   "id": "34e4b191",
   "metadata": {},
   "outputs": [
    {
     "data": {
      "text/plain": [
       "<AxesSubplot:xlabel='Grad.Rate'>"
      ]
     },
     "execution_count": 270,
     "metadata": {},
     "output_type": "execute_result"
    },
    {
     "data": {
      "image/png": "[encoded data removed]",
      "text/plain": [
       "<Figure size 432x288 with 1 Axes>"
      ]
     },
     "metadata": {
      "needs_background": "light"
     },
     "output_type": "display_data"
    }
   ],
   "source": [
    "sns.boxplot(data=edu, x='Grad.Rate')"
   ]
  },
  {
   "cell_type": "markdown",
   "id": "0ba23b32",
   "metadata": {},
   "source": [
    "Multivariate analysis"
   ]
  },
  {
   "cell_type": "code",
   "execution_count": 287,
   "id": "f956b2df",
   "metadata": {},
   "outputs": [
    {
     "data": {
      "image/png": "[encoded data removed]",
      "text/plain": [
       "<Figure size 1080x576 with 2 Axes>"
      ]
     },
     "metadata": {
      "needs_background": "light"
     },
     "output_type": "display_data"
    }
   ],
   "source": [
    "mask = np.triu(np.ones_like(edu.corr(), dtype=bool))\n",
    "plt.figure(figsize=(15, 8))\n",
    "sns.heatmap(edu.corr(), annot=True, cmap=\"inferno\", mask=mask)\n",
    "plt.show()"
   ]
  },
  {
   "cell_type": "code",
   "execution_count": null,
   "id": "b6c0fcfc",
   "metadata": {},
   "outputs": [],
   "source": []
  },
  {
   "cell_type": "code",
   "execution_count": null,
   "id": "55ed0865",
   "metadata": {},
   "outputs": [],
   "source": []
  }
 ],
 "metadata": {
  "kernelspec": {
   "display_name": "Python 3 (ipykernel)",
   "language": "python",
   "name": "python3"
  },
  "language_info": {
   "codemirror_mode": {
    "name": "ipython",
    "version": 3
   },
   "file_extension": ".py",
   "mimetype": "text/x-python",
   "name": "python",
   "nbconvert_exporter": "python",
   "pygments_lexer": "ipython3",
   "version": "3.9.12"
  }
 },
 "nbformat": 4,
 "nbformat_minor": 5
}
